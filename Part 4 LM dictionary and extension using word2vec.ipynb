{
 "cells": [
  {
   "cell_type": "code",
   "execution_count": 1,
   "metadata": {
    "cell_id": "00000-8fb0a4a0-d487-4397-ad47-dfdd1bcc0039",
    "deepnote_cell_type": "code",
    "execution_millis": 6105,
    "execution_start": 1604605221696,
    "output_cleared": false,
    "source_hash": "1a27fbb0",
    "tags": []
   },
   "outputs": [
    {
     "name": "stdout",
     "output_type": "stream",
     "text": [
      "Requirement already satisfied: nltk in /opt/miniconda3/lib/python3.8/site-packages (3.5)\n",
      "Requirement already satisfied: joblib in /opt/miniconda3/lib/python3.8/site-packages (from nltk) (0.16.0)\n",
      "Requirement already satisfied: regex in /opt/miniconda3/lib/python3.8/site-packages (from nltk) (2020.7.14)\n",
      "Requirement already satisfied: click in /opt/miniconda3/lib/python3.8/site-packages (from nltk) (7.1.2)\n",
      "Requirement already satisfied: tqdm in /opt/miniconda3/lib/python3.8/site-packages (from nltk) (4.48.2)\n",
      "Requirement already satisfied: gensim in /opt/miniconda3/lib/python3.8/site-packages (3.8.3)\n",
      "Requirement already satisfied: scipy>=0.18.1 in /opt/miniconda3/lib/python3.8/site-packages (from gensim) (1.5.0)\n",
      "Requirement already satisfied: six>=1.5.0 in /opt/miniconda3/lib/python3.8/site-packages (from gensim) (1.15.0)\n",
      "Requirement already satisfied: numpy>=1.11.3 in /opt/miniconda3/lib/python3.8/site-packages (from gensim) (1.19.1)\n",
      "Requirement already satisfied: smart-open>=1.8.1 in /opt/miniconda3/lib/python3.8/site-packages (from gensim) (3.0.0)\n",
      "Requirement already satisfied: requests in /opt/miniconda3/lib/python3.8/site-packages (from smart-open>=1.8.1->gensim) (2.24.0)\n",
      "Requirement already satisfied: urllib3!=1.25.0,!=1.25.1,<1.26,>=1.21.1 in /opt/miniconda3/lib/python3.8/site-packages (from requests->smart-open>=1.8.1->gensim) (1.25.11)\n",
      "Requirement already satisfied: chardet<4,>=3.0.2 in /opt/miniconda3/lib/python3.8/site-packages (from requests->smart-open>=1.8.1->gensim) (3.0.4)\n",
      "Requirement already satisfied: certifi>=2017.4.17 in /opt/miniconda3/lib/python3.8/site-packages (from requests->smart-open>=1.8.1->gensim) (2020.6.20)\n",
      "Requirement already satisfied: idna<3,>=2.5 in /opt/miniconda3/lib/python3.8/site-packages (from requests->smart-open>=1.8.1->gensim) (2.10)\n",
      "Requirement already satisfied: xlrd in /opt/miniconda3/lib/python3.8/site-packages (1.2.0)\n",
      "Requirement already satisfied: textblob in /opt/miniconda3/lib/python3.8/site-packages (0.15.3)\n",
      "Requirement already satisfied: nltk>=3.1 in /opt/miniconda3/lib/python3.8/site-packages (from textblob) (3.5)\n",
      "Requirement already satisfied: regex in /opt/miniconda3/lib/python3.8/site-packages (from nltk>=3.1->textblob) (2020.7.14)\n",
      "Requirement already satisfied: joblib in /opt/miniconda3/lib/python3.8/site-packages (from nltk>=3.1->textblob) (0.16.0)\n",
      "Requirement already satisfied: click in /opt/miniconda3/lib/python3.8/site-packages (from nltk>=3.1->textblob) (7.1.2)\n",
      "Requirement already satisfied: tqdm in /opt/miniconda3/lib/python3.8/site-packages (from nltk>=3.1->textblob) (4.48.2)\n"
     ]
    }
   ],
   "source": [
    "# Start writing code here...\n",
    "!pip install nltk\n",
    "!pip install gensim\n",
    "!pip install xlrd\n",
    "!pip install textblob\n"
   ]
  },
  {
   "cell_type": "code",
   "execution_count": 2,
   "metadata": {
    "cell_id": "00001-fffa861e-5eca-4245-a5f0-3f1071003576",
    "deepnote_cell_type": "code",
    "execution_millis": 3,
    "execution_start": 1604605227807,
    "output_cleared": false,
    "source_hash": "f506bca4",
    "tags": []
   },
   "outputs": [
    {
     "name": "stderr",
     "output_type": "stream",
     "text": [
      "[nltk_data] Downloading package punkt to\n",
      "[nltk_data]     /Users/silviaruiz/nltk_data...\n",
      "[nltk_data]   Package punkt is already up-to-date!\n",
      "[nltk_data] Downloading package stopwords to\n",
      "[nltk_data]     /Users/silviaruiz/nltk_data...\n",
      "[nltk_data]   Package stopwords is already up-to-date!\n",
      "[nltk_data] Downloading package wordnet to\n",
      "[nltk_data]     /Users/silviaruiz/nltk_data...\n",
      "[nltk_data]   Package wordnet is already up-to-date!\n"
     ]
    }
   ],
   "source": [
    "import numpy as np \n",
    "import pandas as pd\n",
    "import os\n",
    "from os import listdir\n",
    "from os.path import isfile, join\n",
    "import re\n",
    "import string\n",
    "from string import punctuation\n",
    "from collections import Counter\n",
    "import json\n",
    "\n",
    "import gensim \n",
    "from gensim.models import Word2Vec\n",
    "from gensim.scripts.glove2word2vec import glove2word2vec\n",
    "from gensim.test.utils import datapath, get_tmpfile\n",
    "from gensim.models import KeyedVectors\n",
    "from gensim.scripts.glove2word2vec import glove2word2vec\n",
    "\n",
    "import nltk\n",
    "nltk.download('punkt')\n",
    "\n",
    "import textblob\n",
    "\n",
    "from nltk.tokenize import sent_tokenize, word_tokenize \n",
    "import warnings  \n",
    "warnings.filterwarnings(action = 'ignore')\n",
    "from nltk.corpus import stopwords\n",
    "from nltk.stem.wordnet import WordNetLemmatizer\n",
    "#set up stop_words from nltk\n",
    "nltk.download('stopwords')\n",
    "nltk.download('wordnet')\n",
    "stop_words = stopwords.words('english')\n",
    "lemmatizer = WordNetLemmatizer() "
   ]
  },
  {
   "cell_type": "code",
   "execution_count": 10,
   "metadata": {},
   "outputs": [
    {
     "data": {
      "text/plain": [
       "'/Users/silviaruiz/Documents/Code/Github'"
      ]
     },
     "execution_count": 10,
     "metadata": {},
     "output_type": "execute_result"
    }
   ],
   "source": [
    "path=os.getcwd()\n",
    "path"
   ]
  },
  {
   "cell_type": "code",
   "execution_count": 11,
   "metadata": {},
   "outputs": [],
   "source": [
    "path=path+'/Scrape_data'"
   ]
  },
  {
   "cell_type": "code",
   "execution_count": 12,
   "metadata": {},
   "outputs": [],
   "source": [
    "types_reports=['10_k','10_q']"
   ]
  },
  {
   "cell_type": "markdown",
   "metadata": {
    "cell_id": "00011-5090027c-c86a-4275-af96-3bcef32e781c",
    "deepnote_cell_type": "markdown",
    "output_cleared": false,
    "tags": []
   },
   "source": [
    "Normal LM"
   ]
  },
  {
   "cell_type": "code",
   "execution_count": 46,
   "metadata": {},
   "outputs": [],
   "source": [
    "def get_ciks(type_report):\n",
    "    path_to_reports=path+'/'+type_report\n",
    "    ciks = os.listdir(path_to_reports)\n",
    "    if '.DS_Store' in ciks: ciks.remove('.DS_Store')\n",
    "    return ciks"
   ]
  },
  {
   "cell_type": "code",
   "execution_count": 51,
   "metadata": {},
   "outputs": [],
   "source": [
    "ciks=[get_ciks(report) for report in types_reports]"
   ]
  },
  {
   "cell_type": "code",
   "execution_count": 54,
   "metadata": {},
   "outputs": [
    {
     "data": {
      "text/plain": [
       "['0000816284', '0000049826']"
      ]
     },
     "execution_count": 54,
     "metadata": {},
     "output_type": "execute_result"
    }
   ],
   "source": [
    "ciks=ciks[0][:]\n",
    "ciks"
   ]
  },
  {
   "cell_type": "code",
   "execution_count": 5,
   "metadata": {},
   "outputs": [],
   "source": [
    "def get_dates(type_report,cik):\n",
    "    path_to_reports=path+'/'+type_report\n",
    "    path_to_file=path_to_reports+'/'+cik+'/grabbed_text/'\n",
    "    reports = os.listdir(path_to_file)\n",
    "    if '.DS_Store' in reports: reports.remove('.DS_Store')\n",
    "    dates=[report[11:21] for report in reports]\n",
    "    return dates\n",
    "    "
   ]
  },
  {
   "cell_type": "code",
   "execution_count": 82,
   "metadata": {},
   "outputs": [],
   "source": [
    "reports_10k = []\n",
    "for cik in ciks:  \n",
    "    path_10k_files = path+'/10_k/'+cik+'/grabbed_text'\n",
    "    reports_10k_temp = os.listdir(path_10k_files)\n",
    "    for report in reports_10k_temp:\n",
    "        #print(report)\n",
    "        reports_10k.append(path_10k_files+'/'+report)\n",
    "    \n"
   ]
  },
  {
   "cell_type": "code",
   "execution_count": 84,
   "metadata": {},
   "outputs": [],
   "source": [
    "reports_10q = []\n",
    "for cik in ciks: \n",
    "    path_10q_files = path+'/10_q/'+cik+'/grabbed_text'\n",
    "    reports_10q_temp = os.listdir(path_10q_files)\n",
    "    for report in reports_10q_temp:\n",
    "        reports_10q.append(path_10q_files+'/'+report)"
   ]
  },
  {
   "cell_type": "code",
   "execution_count": 94,
   "metadata": {},
   "outputs": [
    {
     "data": {
      "text/plain": [
       "'/Users/silviaruiz/Documents/Code/Github/Scrape_data/10_k/0000816284/grabbed_text/0000816284_2010-02-18.txt'"
      ]
     },
     "execution_count": 94,
     "metadata": {},
     "output_type": "execute_result"
    }
   ],
   "source": [
    "example_path = reports_10k[0]\n",
    "example_path"
   ]
  },
  {
   "cell_type": "code",
   "execution_count": 95,
   "metadata": {},
   "outputs": [],
   "source": [
    "def read(path):\n",
    "    f = open(path,\"r\")\n",
    "    report_data = f.read().lower()\n",
    "    return report_data"
   ]
  },
  {
   "cell_type": "markdown",
   "metadata": {
    "cell_id": "00019-2b49f125-3e7e-46c5-8fd2-a7308e0d62b3",
    "deepnote_cell_type": "markdown",
    "output_cleared": false,
    "tags": []
   },
   "source": [
    "Cleaning of data"
   ]
  },
  {
   "cell_type": "code",
   "execution_count": 96,
   "metadata": {
    "cell_id": "00020-b1dbb21f-c1c4-4ffd-ad87-067449191395",
    "deepnote_cell_type": "code",
    "execution_millis": 3,
    "execution_start": 1604605228001,
    "output_cleared": false,
    "source_hash": "ddaa780a",
    "tags": []
   },
   "outputs": [],
   "source": [
    "#1. Function to remove punctuations if a given word ended with a punctuation\n",
    "def remove_punct(list1):\n",
    "    list1 = [re.sub(r\"[{}]+\".format(punctuation), \"\", i) for i in list1]\n",
    "    return list1"
   ]
  },
  {
   "cell_type": "code",
   "execution_count": 97,
   "metadata": {
    "cell_id": "00020-cd6a1e4b-4a4e-4e5d-ae1b-233c30d98582",
    "deepnote_cell_type": "code",
    "execution_millis": 0,
    "execution_start": 1604605228020,
    "output_cleared": false,
    "source_hash": "4f023460",
    "tags": []
   },
   "outputs": [],
   "source": [
    "#2. Function to remove numbers\n",
    "def remove_numbers(list1): \n",
    "    pattern = '[0-9]'\n",
    "    list1 = [re.sub(pattern, '', i) for i in list1] \n",
    "    return list1"
   ]
  },
  {
   "cell_type": "code",
   "execution_count": 98,
   "metadata": {
    "cell_id": "00022-d902b26d-dce7-407f-9275-0b9a12a4ffcb",
    "deepnote_cell_type": "code",
    "execution_millis": 0,
    "execution_start": 1604605228020,
    "output_cleared": false,
    "source_hash": "9e9c5605",
    "tags": []
   },
   "outputs": [],
   "source": [
    "#3. Function for filtering words\n",
    "def filter_words(string):\n",
    "    return bool(re.match(r'^[a-z\\']+$', string))"
   ]
  },
  {
   "cell_type": "code",
   "execution_count": 99,
   "metadata": {
    "cell_id": "00023-e2d801fd-65b5-4bc5-810b-13a094968d7a",
    "deepnote_cell_type": "code",
    "execution_millis": 0,
    "execution_start": 1604605228021,
    "output_cleared": false,
    "source_hash": "bc43c6fb",
    "tags": []
   },
   "outputs": [],
   "source": [
    "#4. Function to concatenate list of strings into one string\n",
    "def concatenate_list_data(list):\n",
    "    result= ''\n",
    "    for element in list:\n",
    "        result += \" \"+str(element)\n",
    "    return result"
   ]
  },
  {
   "cell_type": "code",
   "execution_count": 100,
   "metadata": {
    "cell_id": "00024-e21f47f9-a394-4667-ade5-279f1267b327",
    "deepnote_cell_type": "code",
    "execution_millis": 2,
    "execution_start": 1604605228022,
    "output_cleared": false,
    "source_hash": "656a2a1c",
    "tags": []
   },
   "outputs": [],
   "source": [
    "#5. Intersection of sets\n",
    "def intersection(lst1, lst2): \n",
    "  \n",
    "    # Use of hybrid method \n",
    "    temp = set(lst2) \n",
    "    lst3 = [value for value in lst1 if value in temp] \n",
    "    return lst3 "
   ]
  },
  {
   "cell_type": "code",
   "execution_count": 101,
   "metadata": {
    "cell_id": "00019-33977a17-ceed-4779-8725-4d116e528364",
    "deepnote_cell_type": "code",
    "execution_millis": 1,
    "execution_start": 1604605228163,
    "output_cleared": false,
    "source_hash": "c4de394c",
    "tags": []
   },
   "outputs": [],
   "source": [
    "#7. Further cleaning (remove unwanted characters)\n",
    "def clearning_characters(filtered):\n",
    "    while(\"\" in filtered) : \n",
    "        filtered.remove(\"\") \n",
    "\n",
    "    while(\"’\" in filtered) : \n",
    "        filtered.remove(\"’\") \n",
    "\n",
    "    while(\"“\" in filtered) : \n",
    "        filtered.remove(\"“\") \n",
    "\n",
    "    while(\"”\" in filtered) : \n",
    "        filtered.remove(\"”\") \n",
    "\n",
    "    while(\"•\" in filtered) : \n",
    "        filtered.remove(\"•\") \n",
    "\n",
    "    while(\"€\" in filtered) : \n",
    "        filtered.remove(\"€\") \n",
    "\n",
    "    while(\"$\" in filtered) : \n",
    "        filtered.remove(\"$\") \n",
    "    return filtered"
   ]
  },
  {
   "cell_type": "code",
   "execution_count": 102,
   "metadata": {
    "cell_id": "00032-4ecf2289-471a-4a8e-bc93-ff144e5c2ce2",
    "deepnote_cell_type": "code",
    "execution_millis": 0,
    "execution_start": 1604605228244,
    "output_cleared": false,
    "source_hash": "6f621644",
    "tags": []
   },
   "outputs": [],
   "source": [
    "def complete_clean(path):\n",
    "    data = read(path)\n",
    "    word_tokens = word_tokenize(data) \n",
    "    filtered = [w for w in word_tokens if not w in stop_words] \n",
    "    filtered = remove_punct(filtered)\n",
    "    filtered = remove_numbers(filtered)\n",
    "    filtered = clearning_characters(filtered)\n",
    "    filtered = [lemmatizer.lemmatize(word, pos = 'v') for word in filtered]\n",
    "    filtered = [lemmatizer.lemmatize(word, pos = 'n') for word in filtered]\n",
    "    return filtered\n"
   ]
  },
  {
   "cell_type": "code",
   "execution_count": 103,
   "metadata": {},
   "outputs": [
    {
     "data": {
      "text/plain": [
       "['discussion',\n",
       " 'analysis',\n",
       " 'financial',\n",
       " 'condition',\n",
       " 'result',\n",
       " 'operation',\n",
       " 'executive',\n",
       " 'summary',\n",
       " 'celgene',\n",
       " 'corporation',\n",
       " 'subsidiary',\n",
       " 'collectively',\n",
       " '\\x93we\\x94',\n",
       " '\\x93our\\x94',\n",
       " 'global',\n",
       " 'integrate',\n",
       " 'biopharmaceutical',\n",
       " 'company',\n",
       " 'primarily',\n",
       " 'engage',\n",
       " 'discovery',\n",
       " 'development',\n",
       " 'commercialization',\n",
       " 'innovative',\n",
       " 'therapy',\n",
       " 'design',\n",
       " 'treat',\n",
       " 'cancer',\n",
       " 'immuneinflammatory',\n",
       " 'relate',\n",
       " 'disease',\n",
       " 'primary',\n",
       " 'commercial',\n",
       " 'stage',\n",
       " 'product',\n",
       " 'include',\n",
       " 'revlimid®',\n",
       " 'thalomid®',\n",
       " 'inclusive',\n",
       " 'thalidomide',\n",
       " 'celgenetm',\n",
       " 'thalidomide',\n",
       " 'pharmiontm',\n",
       " 'subsequent',\n",
       " 'acquisition',\n",
       " 'pharmion',\n",
       " 'corporation',\n",
       " 'pharmion',\n",
       " 'vidaza®',\n",
       " 'alkeran®',\n",
       " 'license',\n",
       " 'glaxosmithkline',\n",
       " 'gsk',\n",
       " 'sell',\n",
       " 'label',\n",
       " 'march',\n",
       " 'conclusion',\n",
       " 'date',\n",
       " 'alkeran®',\n",
       " 'license',\n",
       " 'gsk',\n",
       " 'revlimid®',\n",
       " 'oral',\n",
       " 'immunomodulatory',\n",
       " 'drug',\n",
       " 'market',\n",
       " 'unite',\n",
       " 'state',\n",
       " 'europe',\n",
       " 'asia',\n",
       " 'pacific',\n",
       " 'patient',\n",
       " 'multiple',\n",
       " 'myeloma',\n",
       " 'receive',\n",
       " 'least',\n",
       " 'one',\n",
       " 'prior',\n",
       " 'therapy',\n",
       " 'unite',\n",
       " 'state',\n",
       " 'canada',\n",
       " 'certain',\n",
       " 'country',\n",
       " 'latin',\n",
       " 'america',\n",
       " 'treatment',\n",
       " 'transfusiondependent',\n",
       " 'anemia',\n",
       " 'due',\n",
       " 'low',\n",
       " 'intermediaterisk',\n",
       " 'myelodysplastic',\n",
       " 'syndrome',\n",
       " 'md',\n",
       " 'associate',\n",
       " 'deletion',\n",
       " 'q',\n",
       " 'cytogenetic',\n",
       " 'abnormality',\n",
       " 'without',\n",
       " 'additional',\n",
       " 'cytogenetic',\n",
       " 'abnormality',\n",
       " 'thalomid®',\n",
       " 'market',\n",
       " 'patient',\n",
       " 'newly',\n",
       " 'diagnose',\n",
       " 'multiple',\n",
       " 'myeloma',\n",
       " 'acute',\n",
       " 'treatment',\n",
       " 'cutaneous',\n",
       " 'manifestation',\n",
       " 'moderate',\n",
       " 'severe',\n",
       " 'erythema',\n",
       " 'nodosum',\n",
       " 'leprosum',\n",
       " 'enl',\n",
       " 'inflammatory',\n",
       " 'complication',\n",
       " 'leprosy',\n",
       " 'vidaza®',\n",
       " 'pyrimidine',\n",
       " 'nucleoside',\n",
       " 'analog',\n",
       " 'show',\n",
       " 'reverse',\n",
       " 'effect',\n",
       " 'dna',\n",
       " 'hypermethylation',\n",
       " 'promote',\n",
       " 'subsequent',\n",
       " 'gene',\n",
       " 'reexpression',\n",
       " 'vidaza®',\n",
       " 'license',\n",
       " 'pfizer',\n",
       " 'market',\n",
       " 'unite',\n",
       " 'state',\n",
       " 'treatment',\n",
       " 'subtypes',\n",
       " 'md',\n",
       " 'grant',\n",
       " 'orphan',\n",
       " 'drug',\n",
       " 'designation',\n",
       " 'treatment',\n",
       " 'md',\n",
       " 'may',\n",
       " 'third',\n",
       " 'quarter',\n",
       " 'national',\n",
       " 'comprehensive',\n",
       " 'cancer',\n",
       " 'network',\n",
       " 'nccn',\n",
       " 'upgrade',\n",
       " 'vidaza®',\n",
       " 'category',\n",
       " 'recommend',\n",
       " 'treatment',\n",
       " 'patient',\n",
       " 'intermediate',\n",
       " 'highrisk',\n",
       " 'md',\n",
       " 'europe',\n",
       " 'vidaza®',\n",
       " 'market',\n",
       " 'treatment',\n",
       " 'certain',\n",
       " 'qualify',\n",
       " 'adult',\n",
       " 'patient',\n",
       " 'grant',\n",
       " 'orphan',\n",
       " 'drug',\n",
       " 'designation',\n",
       " 'treatment',\n",
       " 'md',\n",
       " 'acute',\n",
       " 'myeloid',\n",
       " 'leukemia',\n",
       " 'aml',\n",
       " 'european',\n",
       " 'union',\n",
       " 'eu',\n",
       " 'expire',\n",
       " 'december',\n",
       " 'continue',\n",
       " 'invest',\n",
       " 'substantially',\n",
       " 'research',\n",
       " 'development',\n",
       " 'drug',\n",
       " 'candidate',\n",
       " 'pipeline',\n",
       " 'various',\n",
       " 'stag',\n",
       " 'preclinical',\n",
       " 'clinical',\n",
       " 'development',\n",
       " 'candidate',\n",
       " 'include',\n",
       " 'imids®',\n",
       " 'compound',\n",
       " 'class',\n",
       " 'compound',\n",
       " 'proprietary',\n",
       " 'u',\n",
       " 'certain',\n",
       " 'immunomodulatory',\n",
       " 'biologically',\n",
       " 'important',\n",
       " 'property',\n",
       " 'addition',\n",
       " 'lead',\n",
       " 'oral',\n",
       " 'antiinflammatory',\n",
       " 'agent',\n",
       " 'cell',\n",
       " 'product',\n",
       " 'believe',\n",
       " 'continue',\n",
       " 'acceptance',\n",
       " 'primary',\n",
       " 'commercial',\n",
       " 'stage',\n",
       " 'product',\n",
       " 'depth',\n",
       " 'product',\n",
       " 'pipeline',\n",
       " 'regulatory',\n",
       " 'approval',\n",
       " 'new',\n",
       " 'product',\n",
       " 'expand',\n",
       " 'use',\n",
       " 'exist',\n",
       " 'product',\n",
       " 'provide',\n",
       " 'catalyst',\n",
       " 'future',\n",
       " 'growth',\n",
       " 'year',\n",
       " 'end',\n",
       " 'december',\n",
       " 'report',\n",
       " 'revenue',\n",
       " 'billion',\n",
       " 'net',\n",
       " 'income',\n",
       " 'million',\n",
       " 'dilute',\n",
       " 'earn',\n",
       " 'per',\n",
       " 'share',\n",
       " 'revenue',\n",
       " 'increase',\n",
       " 'million',\n",
       " 'compare',\n",
       " 'primarily',\n",
       " 'due',\n",
       " 'continue',\n",
       " 'expansion',\n",
       " 'international',\n",
       " 'market',\n",
       " 'revenue',\n",
       " 'growth',\n",
       " 'revlimid®',\n",
       " 'vidaza®',\n",
       " 'offset',\n",
       " 'decrease',\n",
       " 'revenue',\n",
       " 'thalomid®',\n",
       " 'alkeran®',\n",
       " 'decrease',\n",
       " 'thalomid®',\n",
       " 'primarily',\n",
       " 'due',\n",
       " 'lower',\n",
       " 'unit',\n",
       " 'volume',\n",
       " 'unite',\n",
       " 'state',\n",
       " 'result',\n",
       " 'increase',\n",
       " 'use',\n",
       " 'revlimid®',\n",
       " 'decrease',\n",
       " 'alkeran®',\n",
       " 'due',\n",
       " 'march',\n",
       " 'conclusion',\n",
       " 'alkeran®',\n",
       " 'license',\n",
       " 'gsk',\n",
       " 'net',\n",
       " 'income',\n",
       " 'earn',\n",
       " 'per',\n",
       " 'share',\n",
       " 'reflect',\n",
       " 'earn',\n",
       " 'contribution',\n",
       " 'higher',\n",
       " 'revlimid®',\n",
       " 'vidaza®',\n",
       " 'revenue',\n",
       " 'partly',\n",
       " 'offset',\n",
       " 'increase',\n",
       " 'spend',\n",
       " 'new',\n",
       " 'product',\n",
       " 'launch',\n",
       " 'recur',\n",
       " 'research',\n",
       " 'development',\n",
       " 'activity',\n",
       " 'expansion',\n",
       " 'international',\n",
       " 'operation',\n",
       " 'year',\n",
       " 'end',\n",
       " 'december',\n",
       " 'include',\n",
       " 'billion',\n",
       " 'charge',\n",
       " 'acquire',\n",
       " 'inprocess',\n",
       " 'research',\n",
       " 'development',\n",
       " 'ipr',\n",
       " 'relate',\n",
       " 'pharmion',\n",
       " 'acquisition',\n",
       " 'march',\n",
       " 'table',\n",
       " 'content',\n",
       " 'factor',\n",
       " 'affect',\n",
       " 'future',\n",
       " 'result',\n",
       " 'future',\n",
       " 'operate',\n",
       " 'result',\n",
       " 'depend',\n",
       " 'many',\n",
       " 'factor',\n",
       " 'include',\n",
       " 'demand',\n",
       " 'exist',\n",
       " 'product',\n",
       " 'regulatory',\n",
       " 'approval',\n",
       " 'product',\n",
       " 'product',\n",
       " 'candidate',\n",
       " 'time',\n",
       " 'market',\n",
       " 'acceptance',\n",
       " 'new',\n",
       " 'product',\n",
       " 'launch',\n",
       " 'u',\n",
       " 'compete',\n",
       " 'company',\n",
       " 'time',\n",
       " 'research',\n",
       " 'development',\n",
       " 'milestone',\n",
       " 'challenge',\n",
       " 'intellectual',\n",
       " 'property',\n",
       " 'ability',\n",
       " 'control',\n",
       " 'cost',\n",
       " 'see',\n",
       " '\\x93risk',\n",
       " 'factors\\x94',\n",
       " 'contain',\n",
       " 'part',\n",
       " 'item',\n",
       " 'a',\n",
       " 'annual',\n",
       " 'report',\n",
       " 'form',\n",
       " 'k',\n",
       " 'result',\n",
       " 'operation',\n",
       " '\\x97',\n",
       " 'fiscal',\n",
       " 'year',\n",
       " 'end',\n",
       " 'december',\n",
       " 'total',\n",
       " 'revenue',\n",
       " 'total',\n",
       " 'revenue',\n",
       " 'relate',\n",
       " 'percentage',\n",
       " 'change',\n",
       " 'year',\n",
       " 'end',\n",
       " 'december',\n",
       " 'follow',\n",
       " 'compare',\n",
       " 'total',\n",
       " 'revenue',\n",
       " 'increase',\n",
       " 'million',\n",
       " 'compare',\n",
       " 'revenue',\n",
       " 'increase',\n",
       " 'unite',\n",
       " 'state',\n",
       " 'million',\n",
       " 'increase',\n",
       " 'international',\n",
       " 'market',\n",
       " 'million',\n",
       " 'compare',\n",
       " 'total',\n",
       " 'revenue',\n",
       " 'increase',\n",
       " 'million',\n",
       " 'compare',\n",
       " 'revenue',\n",
       " 'increase',\n",
       " 'unite',\n",
       " 'state',\n",
       " 'million',\n",
       " 'increase',\n",
       " 'international',\n",
       " 'market',\n",
       " 'million',\n",
       " 'net',\n",
       " 'product',\n",
       " 'sale',\n",
       " 'compare',\n",
       " 'net',\n",
       " 'product',\n",
       " 'sale',\n",
       " 'increase',\n",
       " 'million',\n",
       " 'billion',\n",
       " 'compare',\n",
       " 'increase',\n",
       " 'comprise',\n",
       " 'net',\n",
       " 'volume',\n",
       " 'increase',\n",
       " 'million',\n",
       " 'price',\n",
       " 'increase',\n",
       " 'million',\n",
       " 'partly',\n",
       " 'offset',\n",
       " 'decrease',\n",
       " 'due',\n",
       " 'impact',\n",
       " 'foreign',\n",
       " 'exchange',\n",
       " 'million',\n",
       " 'revlimid®',\n",
       " 'net',\n",
       " 'sale',\n",
       " 'increase',\n",
       " 'million',\n",
       " 'billion',\n",
       " 'compare',\n",
       " 'primarily',\n",
       " 'due',\n",
       " 'increase',\n",
       " 'unit',\n",
       " 'sale',\n",
       " 'u',\n",
       " 'international',\n",
       " 'market',\n",
       " 'increase',\n",
       " 'market',\n",
       " 'penetration',\n",
       " 'increase',\n",
       " 'duration',\n",
       " 'therapy',\n",
       " 'number',\n",
       " 'patient',\n",
       " 'use',\n",
       " 'revlimid®',\n",
       " 'multiple',\n",
       " 'myeloma',\n",
       " 'contribute',\n",
       " 'u',\n",
       " 'growth',\n",
       " 'growth',\n",
       " 'international',\n",
       " 'market',\n",
       " 'reflect',\n",
       " 'expansion',\n",
       " 'commercial',\n",
       " 'activity',\n",
       " 'country',\n",
       " 'product',\n",
       " 'reimbursement',\n",
       " 'approval',\n",
       " 'table',\n",
       " 'content',\n",
       " 'thalomid®',\n",
       " 'net',\n",
       " 'sale',\n",
       " 'decrease',\n",
       " 'million',\n",
       " 'million',\n",
       " 'compare',\n",
       " 'decrease',\n",
       " 'primarily',\n",
       " 'due',\n",
       " 'lower',\n",
       " 'unit',\n",
       " 'volume',\n",
       " 'unite',\n",
       " 'state',\n",
       " 'result',\n",
       " 'increase',\n",
       " 'use',\n",
       " 'revlimid®',\n",
       " 'partially',\n",
       " 'offset',\n",
       " 'higher',\n",
       " 'price',\n",
       " 'volume',\n",
       " 'increase',\n",
       " 'international',\n",
       " 'market',\n",
       " 'vidaza®',\n",
       " 'net',\n",
       " 'sale',\n",
       " 'increase',\n",
       " 'million',\n",
       " 'million',\n",
       " 'compare',\n",
       " 'primarily',\n",
       " 'due',\n",
       " 'december',\n",
       " 'full',\n",
       " 'market',\n",
       " 'authorization',\n",
       " 'grant',\n",
       " 'european',\n",
       " 'commission',\n",
       " 'ec',\n",
       " 'treatment',\n",
       " 'adult',\n",
       " 'patient',\n",
       " 'eligible',\n",
       " 'haematopoietic',\n",
       " 'stem',\n",
       " 'cell',\n",
       " 'transplantation',\n",
       " 'intermediate',\n",
       " 'highrisk',\n",
       " 'md',\n",
       " 'accord',\n",
       " 'international',\n",
       " 'prognostic',\n",
       " 'system',\n",
       " 'score',\n",
       " 'ip',\n",
       " 'chronic',\n",
       " 'myelomonocytic',\n",
       " 'leukaemia',\n",
       " 'cmml',\n",
       " 'percent',\n",
       " 'marrow',\n",
       " 'blast',\n",
       " 'without',\n",
       " 'myeloproliferative',\n",
       " 'disorder',\n",
       " 'aml',\n",
       " 'percent',\n",
       " 'blast',\n",
       " 'multilineage',\n",
       " 'dysplasia',\n",
       " 'accord',\n",
       " 'world',\n",
       " 'health',\n",
       " 'organization',\n",
       " 'classification',\n",
       " 'vidaza®',\n",
       " 'addition',\n",
       " 'sale',\n",
       " 'include',\n",
       " 'sale',\n",
       " 'subsequent',\n",
       " 'march',\n",
       " 'acquisition',\n",
       " 'pharmion',\n",
       " 'alkeran®',\n",
       " 'net',\n",
       " 'sale',\n",
       " 'decrease',\n",
       " 'million',\n",
       " 'million',\n",
       " 'compare',\n",
       " 'product',\n",
       " 'license',\n",
       " 'gsk',\n",
       " 'sell',\n",
       " 'label',\n",
       " 'march',\n",
       " 'conclusion',\n",
       " 'date',\n",
       " 'alkeran®',\n",
       " 'license',\n",
       " 'gsk',\n",
       " 'compare',\n",
       " 'net',\n",
       " 'product',\n",
       " 'sale',\n",
       " 'increase',\n",
       " 'million',\n",
       " 'billion',\n",
       " 'compare',\n",
       " 'increase',\n",
       " 'comprise',\n",
       " 'net',\n",
       " 'volume',\n",
       " 'increase',\n",
       " 'million',\n",
       " 'well',\n",
       " 'price',\n",
       " 'increase',\n",
       " 'million',\n",
       " 'favorable',\n",
       " 'impact',\n",
       " 'foreign',\n",
       " 'exchange',\n",
       " 'million',\n",
       " 'revlimid®',\n",
       " 'net',\n",
       " 'sale',\n",
       " 'increase',\n",
       " 'million',\n",
       " 'billion',\n",
       " 'compare',\n",
       " 'primarily',\n",
       " 'due',\n",
       " 'increase',\n",
       " 'sale',\n",
       " 'unite',\n",
       " 'state',\n",
       " 'continue',\n",
       " 'expansion',\n",
       " 'international',\n",
       " 'market',\n",
       " 'increase',\n",
       " 'market',\n",
       " 'penetration',\n",
       " 'increase',\n",
       " 'duration',\n",
       " 'patient',\n",
       " 'use',\n",
       " 'revlimid®',\n",
       " 'multiple',\n",
       " 'myeloma',\n",
       " 'account',\n",
       " 'u',\n",
       " 'growth',\n",
       " 'international',\n",
       " 'sale',\n",
       " 'growth',\n",
       " 'primarily',\n",
       " 'reflect',\n",
       " 'impact',\n",
       " 'june',\n",
       " 'ec\\x92s',\n",
       " 'approval',\n",
       " 'use',\n",
       " 'revlimid®',\n",
       " 'treatment',\n",
       " 'combination',\n",
       " 'dexamethasone',\n",
       " 'patient',\n",
       " 'multiple',\n",
       " 'myeloma',\n",
       " 'receive',\n",
       " 'least',\n",
       " 'one',\n",
       " 'prior',\n",
       " 'therapy',\n",
       " 'continue',\n",
       " 'expansion',\n",
       " 'international',\n",
       " 'market',\n",
       " 'thalomid®',\n",
       " 'net',\n",
       " 'sale',\n",
       " 'increase',\n",
       " 'million',\n",
       " 'million',\n",
       " 'compare',\n",
       " 'primarily',\n",
       " 'due',\n",
       " 'inclusion',\n",
       " 'international',\n",
       " 'sale',\n",
       " 'result',\n",
       " 'acquisition',\n",
       " 'pharmion',\n",
       " 'addition',\n",
       " 'u',\n",
       " 'price',\n",
       " 'increase',\n",
       " 'offset',\n",
       " 'lower',\n",
       " 'sale',\n",
       " 'volume',\n",
       " 'vidaza®',\n",
       " 'net',\n",
       " 'sale',\n",
       " 'million',\n",
       " 'represent',\n",
       " 'sale',\n",
       " 'record',\n",
       " 'subsequent',\n",
       " 'march',\n",
       " 'pharmion',\n",
       " 'acquisition',\n",
       " 'unite',\n",
       " 'state',\n",
       " 'international',\n",
       " 'market',\n",
       " 'alkeranâ',\n",
       " 'net',\n",
       " 'sale',\n",
       " 'increase',\n",
       " 'million',\n",
       " 'million',\n",
       " 'compare',\n",
       " 'primarily',\n",
       " 'due',\n",
       " 'increase',\n",
       " 'unit',\n",
       " 'sale',\n",
       " 'injectable',\n",
       " 'form',\n",
       " 'gross',\n",
       " 'net',\n",
       " 'sale',\n",
       " 'accrual',\n",
       " 'record',\n",
       " 'gross',\n",
       " 'net',\n",
       " 'sale',\n",
       " 'accrual',\n",
       " 'sale',\n",
       " 'return',\n",
       " 'allowance',\n",
       " 'sale',\n",
       " 'discount',\n",
       " 'government',\n",
       " 'rebate',\n",
       " 'chargebacks',\n",
       " 'distributor',\n",
       " 'service',\n",
       " 'fee',\n",
       " 'thalomid®',\n",
       " 'distribute',\n",
       " 'unite',\n",
       " 'state',\n",
       " 'steps®',\n",
       " 'program',\n",
       " 'develop',\n",
       " 'proprietary',\n",
       " 'comprehensive',\n",
       " 'education',\n",
       " 'riskmanagement',\n",
       " 'distribution',\n",
       " 'program',\n",
       " 'objective',\n",
       " 'provide',\n",
       " 'safe',\n",
       " 'appropriate',\n",
       " 'distribution',\n",
       " 'use',\n",
       " 'thalomid®',\n",
       " 'internationally',\n",
       " 'thalomid®',\n",
       " 'also',\n",
       " 'distribute',\n",
       " 'mandatory',\n",
       " 'riskmanagement',\n",
       " 'distribution',\n",
       " 'program',\n",
       " 'tailor',\n",
       " 'meet',\n",
       " 'local',\n",
       " 'competent',\n",
       " 'authorities\\x92',\n",
       " 'specification',\n",
       " 'help',\n",
       " 'ensure',\n",
       " 'safe',\n",
       " 'appropriate',\n",
       " 'distribution',\n",
       " 'use',\n",
       " 'thalomid®',\n",
       " 'program',\n",
       " 'may',\n",
       " 'vary',\n",
       " 'country',\n",
       " 'depend',\n",
       " 'upon',\n",
       " 'country',\n",
       " 'design',\n",
       " 'riskmanagement',\n",
       " 'program',\n",
       " 'product',\n",
       " 'may',\n",
       " 'sell',\n",
       " 'hospital',\n",
       " 'retail',\n",
       " 'pharmacy',\n",
       " 'revlimid®',\n",
       " 'distribute',\n",
       " 'unite',\n",
       " 'state',\n",
       " 'primarily',\n",
       " 'contract',\n",
       " 'pharmacy',\n",
       " 'revassist®',\n",
       " 'program',\n",
       " 'proprietary',\n",
       " 'riskmanagement',\n",
       " 'distribution',\n",
       " 'program',\n",
       " 'tailor',\n",
       " 'specifically',\n",
       " 'help',\n",
       " 'ensure',\n",
       " 'safe',\n",
       " 'appropriate',\n",
       " 'distribution',\n",
       " 'use',\n",
       " 'revlimid®',\n",
       " 'internationally',\n",
       " 'revlimid®',\n",
       " 'also',\n",
       " 'distribute',\n",
       " 'mandatory',\n",
       " 'riskmanagement',\n",
       " 'distribution',\n",
       " 'program',\n",
       " 'tailor',\n",
       " 'meet',\n",
       " 'local',\n",
       " 'competent',\n",
       " 'authorities\\x92',\n",
       " 'specification',\n",
       " 'help',\n",
       " 'ensure',\n",
       " 'safe',\n",
       " 'appropriate',\n",
       " 'distribution',\n",
       " 'use',\n",
       " 'revlimid®',\n",
       " 'program',\n",
       " 'may',\n",
       " 'vary',\n",
       " 'country',\n",
       " 'depend',\n",
       " 'upon',\n",
       " 'country',\n",
       " 'design',\n",
       " 'riskmanagement',\n",
       " 'program',\n",
       " 'product',\n",
       " 'may',\n",
       " 'sell',\n",
       " 'hospital',\n",
       " 'retail',\n",
       " 'pharmacy',\n",
       " 'vidaza®',\n",
       " 'distribute',\n",
       " 'traditional',\n",
       " 'pharmaceutical',\n",
       " 'industry',\n",
       " 'supply',\n",
       " 'chain',\n",
       " 'vidaza®',\n",
       " 'subject',\n",
       " 'riskmanagement',\n",
       " 'distribution',\n",
       " 'program',\n",
       " 'thalomid®',\n",
       " 'revlimid®',\n",
       " 'table',\n",
       " 'content',\n",
       " 'base',\n",
       " 'sale',\n",
       " 'return',\n",
       " 'allowance',\n",
       " 'estimate',\n",
       " 'onhand',\n",
       " 'retailhospital',\n",
       " 'inventory',\n",
       " 'measure',\n",
       " 'endcustomer',\n",
       " 'demand',\n",
       " 'report',\n",
       " 'thirdparty',\n",
       " 'source',\n",
       " 'actual',\n",
       " 'return',\n",
       " 'history',\n",
       " 'factor',\n",
       " 'trend',\n",
       " 'experience',\n",
       " 'lot',\n",
       " 'product',\n",
       " 'still',\n",
       " 'return',\n",
       " 'inventory',\n",
       " 'centralization',\n",
       " 'rationalization',\n",
       " 'initiative',\n",
       " 'conduct',\n",
       " 'major',\n",
       " 'pharmacy',\n",
       " 'chain',\n",
       " 'applicable',\n",
       " 'historical',\n",
       " 'data',\n",
       " 'use',\n",
       " 'calculate',\n",
       " 'estimate',\n",
       " 'properly',\n",
       " 'reflect',\n",
       " 'future',\n",
       " 'return',\n",
       " 'change',\n",
       " 'allowance',\n",
       " 'would',\n",
       " 'make',\n",
       " 'period',\n",
       " 'determination',\n",
       " 'make',\n",
       " 'revenue',\n",
       " 'period',\n",
       " 'could',\n",
       " 'materially',\n",
       " 'affect',\n",
       " 'methodology',\n",
       " 'track',\n",
       " 'actual',\n",
       " 'return',\n",
       " 'individual',\n",
       " 'production',\n",
       " 'lot',\n",
       " 'return',\n",
       " 'close',\n",
       " 'lot',\n",
       " 'lot',\n",
       " 'longer',\n",
       " 'eligible',\n",
       " 'return',\n",
       " 'credit',\n",
       " 'analyze',\n",
       " 'determine',\n",
       " 'historical',\n",
       " 'return',\n",
       " 'experience',\n",
       " 'return',\n",
       " 'open',\n",
       " 'lot',\n",
       " 'lot',\n",
       " 'still',\n",
       " 'eligible',\n",
       " 'return',\n",
       " 'credit',\n",
       " 'monitor',\n",
       " 'compare',\n",
       " 'historical',\n",
       " 'return',\n",
       " 'trend',\n",
       " 'rat',\n",
       " 'change',\n",
       " 'historical',\n",
       " 'trend',\n",
       " 'rat',\n",
       " 'consider',\n",
       " 'determine',\n",
       " 'current',\n",
       " 'sale',\n",
       " 'return',\n",
       " 'allowance',\n",
       " ...]"
      ]
     },
     "execution_count": 103,
     "metadata": {},
     "output_type": "execute_result"
    }
   ],
   "source": [
    "words=complete_clean(example_path)\n",
    "words"
   ]
  },
  {
   "cell_type": "markdown",
   "metadata": {
    "cell_id": "00007-7fd1b784-bd6c-4351-a1c2-62feba5d13aa",
    "deepnote_cell_type": "markdown",
    "output_cleared": false,
    "tags": []
   },
   "source": [
    "Expanding LM"
   ]
  },
  {
   "cell_type": "code",
   "execution_count": 117,
   "metadata": {
    "cell_id": "00043-c2e8a4c8-512e-41d3-9450-5bda848f861f",
    "deepnote_cell_type": "code",
    "execution_millis": 3,
    "execution_start": 1604605233947,
    "output_cleared": false,
    "source_hash": "5da3340e",
    "tags": []
   },
   "outputs": [],
   "source": [
    "#Prepare the data for the models\n",
    "def prepare_data(filtered):\n",
    "    s = ' '\n",
    "    text=s.join(filtered)\n",
    "    data = [] \n",
    "    for i in sent_tokenize(text): \n",
    "        temp = []      \n",
    "        # tokenize the sentence into words \n",
    "        for j in word_tokenize(i): \n",
    "            temp.append(j.lower()) \n",
    "    data.append(temp) \n",
    "    return data"
   ]
  },
  {
   "cell_type": "code",
   "execution_count": 118,
   "metadata": {
    "cell_id": "00043-0d8ca837-7101-4976-8075-0a4ff9b5ee33",
    "deepnote_cell_type": "code",
    "execution_millis": 1,
    "execution_start": 1604605233939,
    "output_cleared": false,
    "source_hash": "b623e53d",
    "tags": []
   },
   "outputs": [],
   "source": [
    "data=prepare_data(words)"
   ]
  },
  {
   "cell_type": "code",
   "execution_count": 119,
   "metadata": {
    "cell_id": "00007-2fb2431b-8e3c-4e17-82ae-298ce5b3597e",
    "deepnote_cell_type": "code",
    "execution_millis": 352,
    "execution_start": 1604605234011,
    "output_cleared": false,
    "source_hash": "e535daf0",
    "tags": []
   },
   "outputs": [],
   "source": [
    "model2 = gensim.models.Word2Vec(data, min_count = 1, size = 100, window = 5, sg = 2) "
   ]
  },
  {
   "cell_type": "code",
   "execution_count": 120,
   "metadata": {},
   "outputs": [
    {
     "name": "stdout",
     "output_type": "stream",
     "text": [
      "/Users/silviaruiz/Documents/Code/Github\n"
     ]
    }
   ],
   "source": [
    "print(os.getcwd())"
   ]
  },
  {
   "cell_type": "markdown",
   "metadata": {},
   "source": [
    "Read dictionary"
   ]
  },
  {
   "cell_type": "code",
   "execution_count": 108,
   "metadata": {},
   "outputs": [],
   "source": [
    "import json"
   ]
  },
  {
   "cell_type": "code",
   "execution_count": 115,
   "metadata": {},
   "outputs": [],
   "source": [
    "def count_new_words(cik,type_report,date):\n",
    "    path_file=path+'/'+sector+'/'+type_report+'/'+cik+'/'+'grabbed_text'+'/'+cik+'_'+date+'.txt'\n",
    "    words=complete_clean(path_file)\n",
    "    data=prepare_data(words)\n",
    "    #Train model on report\n",
    "    model2 = gensim.models.Word2Vec(data, min_count = 1, size = 100, window = 5, sg = 2) \n",
    "    #Get positive and negative words from the report\n",
    "    positive_words=dic_p_n[cik][type_report][date]['Positive']\n",
    "    negative_words=dic_p_n[cik][type_report][date]['Negative']\n",
    "    new_pos=[]\n",
    "    new_neg=[]\n",
    "    new_pos_freq=[]\n",
    "    new_neg_freq=[]\n",
    "    #Find similar positive and negative words from the report\n",
    "    for wordz in positive_words:\n",
    "        sim_words=model2.most_similar(wordz)\n",
    "        for word in sim_words:\n",
    "            if word[1]>0.99:  \n",
    "                if word[0] not in negative_words:\n",
    "                    similar=word[0]\n",
    "                    new_pos.append(similar)\n",
    "                    freq_p=dic_allwords[cik][type_report][date][wordz]\n",
    "                    new_pos_freq.append(freq_p)\n",
    "    for wordz in negative_words:\n",
    "        sim_words=model2.most_similar(wordz)\n",
    "        for word in sim_words:\n",
    "            if word[1]>0.99:\n",
    "                if word[0] not in new_pos:\n",
    "                    similar=word[0]\n",
    "                    new_neg.append(similar)\n",
    "                    freq_n=dic_allwords[cik][type_report][date][wordz]\n",
    "                    new_neg_freq.append(freq_n)\n",
    "    new_pos_words_count=np.sum(new_pos_freq)\n",
    "    new_neg_words_count=np.sum(new_neg_freq)\n",
    "    return new_pos_words_count,new_neg_words_count#,new_pos,new_neg"
   ]
  },
  {
   "cell_type": "code",
   "execution_count": 116,
   "metadata": {},
   "outputs": [
    {
     "ename": "NameError",
     "evalue": "name 'dates' is not defined",
     "output_type": "error",
     "traceback": [
      "\u001b[0;31m---------------------------------------------------------------------------\u001b[0m",
      "\u001b[0;31mNameError\u001b[0m                                 Traceback (most recent call last)",
      "\u001b[0;32m<ipython-input-116-d59f2290545d>\u001b[0m in \u001b[0;36m<module>\u001b[0;34m\u001b[0m\n\u001b[0;32m----> 1\u001b[0;31m \u001b[0mnew_pos_count\u001b[0m\u001b[0;34m,\u001b[0m\u001b[0mnew_neg_count\u001b[0m\u001b[0;34m,\u001b[0m\u001b[0mnew_pos\u001b[0m\u001b[0;34m,\u001b[0m\u001b[0mnew_neg\u001b[0m\u001b[0;34m=\u001b[0m\u001b[0mcount_new_words\u001b[0m\u001b[0;34m(\u001b[0m\u001b[0mcik\u001b[0m\u001b[0;34m,\u001b[0m\u001b[0;34m'10ks'\u001b[0m\u001b[0;34m,\u001b[0m\u001b[0mdates\u001b[0m\u001b[0;34m[\u001b[0m\u001b[0;36m0\u001b[0m\u001b[0;34m]\u001b[0m\u001b[0;34m)\u001b[0m\u001b[0;34m\u001b[0m\u001b[0;34m\u001b[0m\u001b[0m\n\u001b[0m",
      "\u001b[0;31mNameError\u001b[0m: name 'dates' is not defined"
     ]
    }
   ],
   "source": [
    "new_pos_count,new_neg_count,new_pos,new_neg=count_new_words(cik,'10ks',dates[0])"
   ]
  },
  {
   "cell_type": "code",
   "execution_count": 265,
   "metadata": {},
   "outputs": [
    {
     "data": {
      "text/plain": [
       "3555"
      ]
     },
     "execution_count": 265,
     "metadata": {},
     "output_type": "execute_result"
    }
   ],
   "source": [
    "new_pos_count"
   ]
  },
  {
   "cell_type": "code",
   "execution_count": 261,
   "metadata": {},
   "outputs": [
    {
     "data": {
      "text/plain": [
       "3555"
      ]
     },
     "execution_count": 261,
     "metadata": {},
     "output_type": "execute_result"
    }
   ],
   "source": []
  },
  {
   "cell_type": "code",
   "execution_count": 262,
   "metadata": {},
   "outputs": [
    {
     "data": {
      "text/plain": [
       "3830"
      ]
     },
     "execution_count": 262,
     "metadata": {},
     "output_type": "execute_result"
    }
   ],
   "source": [
    "np.sum(new_neg_freq)"
   ]
  },
  {
   "cell_type": "code",
   "execution_count": null,
   "metadata": {},
   "outputs": [],
   "source": []
  },
  {
   "cell_type": "code",
   "execution_count": null,
   "metadata": {},
   "outputs": [],
   "source": [
    "for word"
   ]
  },
  {
   "cell_type": "code",
   "execution_count": 238,
   "metadata": {},
   "outputs": [
    {
     "data": {
      "text/plain": [
       "dict_keys(['2013-02-15', '2014-02-14', '2015-02-13', '2016-02-16', '2017-02-17', '2018-02-20'])"
      ]
     },
     "execution_count": 238,
     "metadata": {},
     "output_type": "execute_result"
    }
   ],
   "source": [
    "dic_allwords[cik]['10ks'].keys()"
   ]
  },
  {
   "cell_type": "code",
   "execution_count": 255,
   "metadata": {},
   "outputs": [
    {
     "data": {
      "text/plain": [
       "368"
      ]
     },
     "execution_count": 255,
     "metadata": {},
     "output_type": "execute_result"
    }
   ],
   "source": [
    "dic_allwords[cik]['10ks'][dates[0]]['financial']"
   ]
  },
  {
   "cell_type": "markdown",
   "metadata": {},
   "source": [
    "Frequency of words"
   ]
  },
  {
   "cell_type": "code",
   "execution_count": 25,
   "metadata": {},
   "outputs": [],
   "source": [
    "words_classified=pd.read_excel('Communications Words and Frequencies.xlsx')"
   ]
  },
  {
   "cell_type": "code",
   "execution_count": 26,
   "metadata": {},
   "outputs": [
    {
     "name": "stdout",
     "output_type": "stream",
     "text": [
      "Working on row:  0\n",
      "Working on row:  1\n",
      "Working on row:  2\n",
      "Working on row:  3\n",
      "Working on row:  4\n",
      "Working on row:  5\n",
      "Working on row:  6\n",
      "Working on row:  7\n",
      "Working on row:  8\n",
      "Working on row:  9\n",
      "Working on row:  10\n",
      "Working on row:  11\n",
      "Working on row:  12\n",
      "Working on row:  13\n",
      "Working on row:  14\n",
      "Working on row:  15\n",
      "Working on row:  16\n",
      "Working on row:  17\n",
      "Working on row:  18\n",
      "Working on row:  19\n",
      "Working on row:  20\n",
      "Working on row:  21\n",
      "Working on row:  22\n",
      "Working on row:  23\n",
      "Working on row:  24\n",
      "Working on row:  25\n",
      "Working on row:  26\n",
      "Working on row:  27\n",
      "Working on row:  28\n",
      "Working on row:  29\n",
      "Working on row:  30\n",
      "Working on row:  31\n",
      "Working on row:  32\n",
      "Working on row:  33\n",
      "Working on row:  34\n",
      "Working on row:  35\n",
      "Working on row:  36\n",
      "Working on row:  37\n",
      "Working on row:  38\n",
      "Working on row:  39\n",
      "Working on row:  40\n",
      "Working on row:  41\n",
      "Working on row:  42\n",
      "Working on row:  43\n",
      "Working on row:  44\n",
      "Working on row:  45\n",
      "Working on row:  46\n",
      "Working on row:  47\n",
      "Working on row:  48\n",
      "Working on row:  49\n",
      "Working on row:  50\n",
      "Working on row:  51\n",
      "Working on row:  52\n",
      "Working on row:  53\n",
      "Working on row:  54\n",
      "Working on row:  55\n",
      "Working on row:  56\n",
      "Working on row:  57\n",
      "Working on row:  58\n",
      "Working on row:  59\n",
      "Working on row:  60\n",
      "Working on row:  61\n",
      "Working on row:  62\n",
      "Working on row:  63\n",
      "Working on row:  64\n",
      "Working on row:  65\n",
      "Working on row:  66\n",
      "Working on row:  67\n",
      "Working on row:  68\n",
      "Working on row:  69\n",
      "Working on row:  70\n",
      "Working on row:  71\n",
      "Working on row:  72\n",
      "Working on row:  73\n",
      "Working on row:  74\n",
      "Working on row:  75\n",
      "Working on row:  76\n",
      "Working on row:  77\n",
      "Working on row:  78\n",
      "Working on row:  79\n",
      "Working on row:  80\n",
      "Working on row:  81\n",
      "Working on row:  82\n",
      "Working on row:  83\n",
      "Working on row:  84\n",
      "Working on row:  85\n",
      "Working on row:  86\n",
      "Working on row:  87\n",
      "Working on row:  88\n",
      "Working on row:  89\n",
      "Working on row:  90\n",
      "Working on row:  91\n",
      "Working on row:  92\n",
      "Working on row:  93\n",
      "Working on row:  94\n",
      "Working on row:  95\n",
      "Working on row:  96\n",
      "Working on row:  97\n",
      "Working on row:  98\n",
      "Working on row:  99\n",
      "Working on row:  100\n",
      "Working on row:  101\n",
      "Working on row:  102\n",
      "Working on row:  103\n",
      "Working on row:  104\n",
      "Working on row:  105\n",
      "Working on row:  106\n",
      "Working on row:  107\n",
      "Working on row:  108\n",
      "Working on row:  109\n",
      "Working on row:  110\n",
      "Working on row:  111\n",
      "Working on row:  112\n",
      "Working on row:  113\n",
      "Working on row:  114\n",
      "Working on row:  115\n",
      "Working on row:  116\n",
      "Working on row:  117\n",
      "Working on row:  118\n",
      "Working on row:  119\n",
      "Working on row:  120\n",
      "Working on row:  121\n",
      "Working on row:  122\n",
      "Working on row:  123\n",
      "Working on row:  124\n",
      "Working on row:  125\n",
      "Working on row:  126\n",
      "Working on row:  127\n",
      "Working on row:  128\n",
      "Working on row:  129\n",
      "Working on row:  130\n",
      "Working on row:  131\n",
      "Working on row:  132\n",
      "Working on row:  133\n",
      "Working on row:  134\n",
      "Working on row:  135\n",
      "Working on row:  136\n",
      "Working on row:  137\n",
      "Working on row:  138\n",
      "Working on row:  139\n",
      "Working on row:  140\n",
      "Working on row:  141\n",
      "Working on row:  142\n",
      "Working on row:  143\n",
      "Working on row:  144\n",
      "Working on row:  145\n",
      "Working on row:  146\n",
      "Working on row:  147\n",
      "Working on row:  148\n",
      "Working on row:  149\n",
      "Working on row:  150\n",
      "Working on row:  151\n",
      "Working on row:  152\n",
      "Working on row:  153\n",
      "Working on row:  154\n",
      "Working on row:  155\n",
      "Working on row:  156\n",
      "Working on row:  157\n",
      "Working on row:  158\n",
      "Working on row:  159\n",
      "Working on row:  160\n",
      "Working on row:  161\n",
      "Working on row:  162\n",
      "Working on row:  163\n",
      "Working on row:  164\n",
      "Working on row:  165\n",
      "Working on row:  166\n",
      "Working on row:  167\n",
      "Working on row:  168\n",
      "Working on row:  169\n",
      "Working on row:  170\n",
      "Working on row:  171\n",
      "Working on row:  172\n",
      "Working on row:  173\n",
      "Working on row:  174\n",
      "Working on row:  175\n",
      "Working on row:  176\n",
      "Working on row:  177\n",
      "Working on row:  178\n",
      "Working on row:  179\n",
      "Working on row:  180\n",
      "Working on row:  181\n",
      "Working on row:  182\n",
      "Working on row:  183\n",
      "Working on row:  184\n",
      "Working on row:  185\n",
      "Working on row:  186\n",
      "Working on row:  187\n",
      "Working on row:  188\n",
      "Working on row:  189\n",
      "Working on row:  190\n",
      "Working on row:  191\n",
      "Working on row:  192\n",
      "Working on row:  193\n",
      "Working on row:  194\n",
      "Working on row:  195\n",
      "Working on row:  196\n",
      "Working on row:  197\n",
      "Working on row:  198\n",
      "Working on row:  199\n",
      "Working on row:  200\n",
      "Working on row:  201\n",
      "Working on row:  202\n",
      "Working on row:  203\n"
     ]
    }
   ],
   "source": [
    "number_new_pos=[]\n",
    "number_new_neg=[]\n",
    "for index,row in words_classified.iterrows():\n",
    "    print('Working on row: ',index)\n",
    "    x=str(row['Company'])\n",
    "    cik='{0:0>10}'.format(x)\n",
    "    type_report=row['Type']\n",
    "    date=row['Date']\n",
    "    new_pos_count,new_neg_count=count_new_words(cik,type_report,date)\n",
    "    number_new_pos.append(new_pos_count)\n",
    "    number_new_neg.append(new_neg_count)"
   ]
  },
  {
   "cell_type": "code",
   "execution_count": 297,
   "metadata": {},
   "outputs": [
    {
     "data": {
      "text/plain": [
       "[1352]"
      ]
     },
     "execution_count": 297,
     "metadata": {},
     "output_type": "execute_result"
    }
   ],
   "source": [
    "words_classified"
   ]
  },
  {
   "cell_type": "code",
   "execution_count": 28,
   "metadata": {},
   "outputs": [],
   "source": [
    "words_classified['New positive words']=number_new_pos\n",
    "words_classified['New negative words']=number_new_neg"
   ]
  },
  {
   "cell_type": "code",
   "execution_count": 30,
   "metadata": {},
   "outputs": [],
   "source": [
    "words_classified['Positive Extended']=words_classified['Positive']+words_classified['New positive words']\n",
    "words_classified['Negative Extended']=words_classified['Negative']+words_classified['New negative words']\n"
   ]
  },
  {
   "cell_type": "code",
   "execution_count": 32,
   "metadata": {},
   "outputs": [],
   "source": [
    "words_classified['New Total Words']=words_classified['Total Words']+words_classified['New positive words']+words_classified['New negative words']"
   ]
  },
  {
   "cell_type": "code",
   "execution_count": 33,
   "metadata": {},
   "outputs": [],
   "source": [
    "words_classified=words_classified.drop(columns=['Unnamed: 0', 'New positive words','New negative words'])"
   ]
  },
  {
   "cell_type": "code",
   "execution_count": 35,
   "metadata": {},
   "outputs": [
    {
     "data": {
      "text/plain": [
       "'Communication'"
      ]
     },
     "execution_count": 35,
     "metadata": {},
     "output_type": "execute_result"
    }
   ],
   "source": [
    "sector"
   ]
  },
  {
   "cell_type": "code",
   "execution_count": 37,
   "metadata": {},
   "outputs": [],
   "source": [
    "words_classified.to_csv(sector+'_LM extended.csv')"
   ]
  },
  {
   "cell_type": "code",
   "execution_count": null,
   "metadata": {
    "cell_id": "00047-5352782e-8670-4a2b-ab31-04cb7fe3331a",
    "deepnote_cell_type": "code",
    "execution_millis": 2510,
    "execution_start": 1604605234385,
    "output_cleared": false,
    "source_hash": "5cab2eb7",
    "tags": []
   },
   "outputs": [],
   "source": [
    "new_positive_10k=[]\n",
    "new_negative_10k=[]\n",
    "\n",
    "\n",
    "for i in range(len(dates_10ks)):\n",
    "    data=prepare_data(words_10k[i])\n",
    "    model2 = gensim.models.Word2Vec(data, min_count = 1, size = 100, window = 2, sg = 2)\n",
    "    positive=copy.deepcopy(positive_10k[i])\n",
    "    negative=copy.deepcopy(negative_10k[i])\n",
    "    new_pos=[]\n",
    "    new_neg=[]\n",
    "    for j in range(len(positive)):\n",
    "        words=model2.most_similar(positive[j])\n",
    "        for word in words:\n",
    "            if word[1]>0.99:  \n",
    "                if word[0] not in negative:\n",
    "                    similar=word[0]\n",
    "                    new_pos.append(similar)\n",
    "                    new_pos_freq\n",
    "\n",
    "    for j in range(len(negative)):\n",
    "        words=model2.most_similar(negative[j])\n",
    "        for word in words:\n",
    "            if word[1]>0.99:\n",
    "                if word[0] not in new_pos:\n",
    "                    similar=word[0]\n",
    "                    new_neg.append(similar)\n",
    "    #positive=np.concatenate((positive, new_pos))\n",
    "    #negative=np.concatenate((negative, new_neg))\n",
    "    new_positive_10k.append(new_pos)\n",
    "    new_negative_10k.append(new_neg)\n",
    "\n",
    "\n"
   ]
  },
  {
   "cell_type": "code",
   "execution_count": null,
   "metadata": {
    "cell_id": "00049-75482bf8-f17f-4b18-9db8-c59bbda10c28",
    "deepnote_cell_type": "code",
    "execution_millis": 5473,
    "execution_start": 1604605236906,
    "output_cleared": false,
    "source_hash": "36b5200e",
    "tags": []
   },
   "outputs": [
    {
     "name": "stdout",
     "output_type": "stream",
     "text": [
      "2014-05-08\n",
      "2014-08-11\n",
      "2014-11-06\n",
      "2015-05-11\n",
      "2015-08-07\n",
      "2015-11-06\n",
      "2016-05-03\n",
      "2016-08-01\n",
      "2016-11-01\n",
      "2017-05-02\n",
      "2017-08-03\n",
      "2017-11-01\n",
      "2018-05-03\n",
      "2018-07-30\n",
      "2018-10-30\n",
      "2019-04-30\n"
     ]
    }
   ],
   "source": [
    "new_positive_10q=[]\n",
    "new_negative_10q=[]\n",
    "for i in range(len(dates_10qs)):\n",
    "    print(dates_10qs[i])\n",
    "    data=prepare_data(words_10q[i])\n",
    "    model2 = gensim.models.Word2Vec(data, min_count = 1, size = 100, window = 2, sg = 2)\n",
    "    positive=copy.deepcopy(positive_10q[i])\n",
    "    negative=copy.deepcopy(negative_10q[i])\n",
    "    new_pos=[]\n",
    "    new_neg=[]\n",
    "    for j in range(len(positive)):\n",
    "        words=model2.most_similar(positive[j])\n",
    "        for word in words:\n",
    "            if word[1]>0.95:  \n",
    "                if word[0] not in negative:\n",
    "                    similar=word[0]\n",
    "                    new_pos.append(similar)\n",
    "    for j in range(len(negative)):\n",
    "        words=model2.most_similar(negative[j])\n",
    "        for word in words:\n",
    "            if word[1]>0.90:\n",
    "                if word[0] not in new_pos:\n",
    "                    similar=word[0]\n",
    "                    new_neg.append(similar)\n",
    "    #positive=np.concatenate((positive, new_pos))\n",
    "    #negative=np.concatenate((negative, new_neg))\n",
    "    new_positive_10q.append(new_pos)\n",
    "    new_negative_10q.append(new_neg)\n"
   ]
  },
  {
   "cell_type": "code",
   "execution_count": null,
   "metadata": {
    "cell_id": "00049-505794de-67fc-475c-930c-1244401b3015",
    "deepnote_cell_type": "code",
    "execution_millis": 0,
    "execution_start": 1604611087566,
    "output_cleared": false,
    "source_hash": "f55e8b11",
    "tags": []
   },
   "outputs": [],
   "source": [
    "n_positive=[(len(positive_10k[i])+len(new_positive_10k[i])) for i in range(len(positive_10k))]\n",
    "n_negative=[(len(negative_10k[i])+len(new_negative_10k[i])) for i in range(len(negative_10k))]"
   ]
  },
  {
   "cell_type": "code",
   "execution_count": null,
   "metadata": {
    "cell_id": "00050-32bae333-7f7f-41cc-b953-551f0f6b1963",
    "deepnote_cell_type": "code",
    "execution_millis": 0,
    "execution_start": 1604611091322,
    "output_cleared": false,
    "source_hash": "6bbbcbec",
    "tags": []
   },
   "outputs": [],
   "source": [
    "df_10k['New positive']=n_positive\n",
    "df_10k['New negative']=n_negative"
   ]
  },
  {
   "cell_type": "code",
   "execution_count": null,
   "metadata": {
    "cell_id": "00057-1de7ee84-9c62-4320-8218-ecd3047fcb93",
    "deepnote_cell_type": "code",
    "execution_millis": 0,
    "execution_start": 1604611092343,
    "output_cleared": false,
    "source_hash": "bdf8275b",
    "tags": []
   },
   "outputs": [
    {
     "data": {
      "text/plain": [
       "[1,\n",
       " 1,\n",
       " 1,\n",
       " 1,\n",
       " 1,\n",
       " 1,\n",
       " 10,\n",
       " 3,\n",
       " 4,\n",
       " 2,\n",
       " 1,\n",
       " 2,\n",
       " 1,\n",
       " 1,\n",
       " 2,\n",
       " 2,\n",
       " 1,\n",
       " 10,\n",
       " 1,\n",
       " 1,\n",
       " 1,\n",
       " 1,\n",
       " 1,\n",
       " 18,\n",
       " 1,\n",
       " 1]"
      ]
     },
     "execution_count": 538,
     "metadata": {},
     "output_type": "execute_result"
    }
   ],
   "source": [
    "freq_p_10k[2]"
   ]
  },
  {
   "cell_type": "code",
   "execution_count": null,
   "metadata": {
    "cell_id": "00057-88e2d491-99f3-4acc-af4a-179168796d02",
    "deepnote_cell_type": "code",
    "execution_millis": 0,
    "execution_start": 1604611093857,
    "output_cleared": false,
    "source_hash": "a9bd7e22",
    "tags": []
   },
   "outputs": [
    {
     "data": {
      "text/plain": [
       "['successfully',\n",
       " 'adequately',\n",
       " 'able',\n",
       " 'strong',\n",
       " 'stronger',\n",
       " 'assure',\n",
       " 'gain',\n",
       " 'enable',\n",
       " 'enhance',\n",
       " 'strongest',\n",
       " 'favorable',\n",
       " 'effective',\n",
       " 'improvement',\n",
       " 'attractive',\n",
       " 'best',\n",
       " 'satisfy',\n",
       " 'win',\n",
       " 'improve',\n",
       " 'strengthen',\n",
       " 'highest',\n",
       " 'innovation',\n",
       " 'stable',\n",
       " 'greater',\n",
       " 'benefit',\n",
       " 'satisfaction',\n",
       " 'influential']"
      ]
     },
     "execution_count": 539,
     "metadata": {},
     "output_type": "execute_result"
    }
   ],
   "source": [
    "positive_10k[2]"
   ]
  },
  {
   "cell_type": "code",
   "execution_count": null,
   "metadata": {
    "cell_id": "00057-da7d43c6-722a-4958-a9a7-cfc088e69da3",
    "deepnote_cell_type": "code",
    "execution_millis": 0,
    "execution_start": 1604606148434,
    "output_cleared": false,
    "source_hash": "1457ef63",
    "tags": []
   },
   "outputs": [
    {
     "data": {
      "text/plain": [
       "['tax', 'investment', 'increase', 'acquisition', 'may', 'currency', 'interest']"
      ]
     },
     "execution_count": 483,
     "metadata": {},
     "output_type": "execute_result"
    }
   ],
   "source": [
    "new_negative_10k[2]"
   ]
  },
  {
   "cell_type": "code",
   "execution_count": null,
   "metadata": {
    "cell_id": "00060-55c89e7e-823c-4bb4-a938-ac8830816f3e",
    "deepnote_cell_type": "code",
    "execution_millis": 5,
    "execution_start": 1604607572665,
    "output_cleared": false,
    "source_hash": "f30cfe46",
    "tags": []
   },
   "outputs": [
    {
     "data": {
      "text/plain": [
       "'2016-02-29'"
      ]
     },
     "execution_count": 529,
     "metadata": {},
     "output_type": "execute_result"
    }
   ],
   "source": [
    "dates_10ks[2]"
   ]
  },
  {
   "cell_type": "code",
   "execution_count": null,
   "metadata": {
    "cell_id": "00060-8f483f14-6f51-457c-990d-782db64e7e14",
    "deepnote_cell_type": "code",
    "execution_millis": 0,
    "execution_start": 1604607081512,
    "output_cleared": false,
    "source_hash": "7a0a4cf6",
    "tags": []
   },
   "outputs": [
    {
     "data": {
      "text/plain": [
       "[('increase', 0.9957089424133301),\n",
       " ('million', 0.994884192943573),\n",
       " ('foreign', 0.994536280632019),\n",
       " ('expense', 0.9945088028907776),\n",
       " ('cash', 0.9941709041595459),\n",
       " ('price', 0.9941664934158325),\n",
       " ('exchange', 0.9941253066062927),\n",
       " ('rat', 0.9941070079803467),\n",
       " ('acquisition', 0.9940422773361206),\n",
       " ('include', 0.9939334392547607)]"
      ]
     },
     "execution_count": 520,
     "metadata": {},
     "output_type": "execute_result"
    }
   ],
   "source": [
    "model2.most_similar('tax')"
   ]
  },
  {
   "cell_type": "code",
   "execution_count": null,
   "metadata": {
    "cell_id": "00052-d9438513-e3b2-4e68-bada-18d44950cf02",
    "deepnote_cell_type": "code",
    "execution_millis": 3,
    "execution_start": 1604605242414,
    "output_cleared": false,
    "source_hash": "f26377f2",
    "tags": []
   },
   "outputs": [],
   "source": [
    "frequencies=Counter(positive_10q[0])"
   ]
  },
  {
   "cell_type": "code",
   "execution_count": null,
   "metadata": {
    "cell_id": "00053-ad2702c8-30d7-4725-848c-e8468f4682cd",
    "deepnote_cell_type": "code",
    "execution_millis": 50,
    "execution_start": 1604605242424,
    "output_cleared": false,
    "source_hash": "b88cf0ba",
    "tags": []
   },
   "outputs": [
    {
     "data": {
      "text/plain": [
       "[('transparency', 1),\n",
       " ('enhancement', 1),\n",
       " ('able', 1),\n",
       " ('gain', 1),\n",
       " ('enable', 1),\n",
       " ('enhance', 1),\n",
       " ('improvement', 1),\n",
       " ('attractive', 1),\n",
       " ('achieve', 1),\n",
       " ('satisfy', 1),\n",
       " ('easy', 1),\n",
       " ('strengthen', 1),\n",
       " ('highest', 1),\n",
       " ('greater', 1),\n",
       " ('benefit', 1),\n",
       " ('satisfaction', 1),\n",
       " ('influential', 1)]"
      ]
     },
     "execution_count": 411,
     "metadata": {},
     "output_type": "execute_result"
    }
   ],
   "source": [
    "frequencies.most_common()"
   ]
  },
  {
   "cell_type": "code",
   "execution_count": null,
   "metadata": {
    "cell_id": "00059-feae902e-3f2a-48eb-a1c8-084ee4fca12d",
    "deepnote_cell_type": "code",
    "execution_millis": 1,
    "execution_start": 1604606013798,
    "output_cleared": false,
    "source_hash": "611fce1f",
    "tags": []
   },
   "outputs": [
    {
     "data": {
      "text/plain": [
       "[]"
      ]
     },
     "execution_count": 458,
     "metadata": {},
     "output_type": "execute_result"
    }
   ],
   "source": [
    "intersection(new_negative_10q[1],new_positive_10q[1])"
   ]
  },
  {
   "cell_type": "code",
   "execution_count": null,
   "metadata": {
    "cell_id": "00062-7d3aecb6-62b1-4fa3-a34c-d797c65614c4",
    "deepnote_cell_type": "code",
    "tags": []
   },
   "outputs": [],
   "source": []
  },
  {
   "cell_type": "code",
   "execution_count": null,
   "metadata": {
    "cell_id": "00051-772ca3bb-943b-4a27-90df-a32208e57e68",
    "deepnote_cell_type": "code",
    "execution_millis": 0,
    "execution_start": 1604611102986,
    "output_cleared": false,
    "source_hash": "13754a9f",
    "tags": []
   },
   "outputs": [],
   "source": [
    "n_positive2=[(len(positive_10q[i])+len(new_positive_10q[i])) for i in range(len(positive_10q))]\n",
    "n_negative2=[(len(negative_10q[i])+len(new_negative_10q[i])) for i in range(len(negative_10q))]"
   ]
  },
  {
   "cell_type": "code",
   "execution_count": null,
   "metadata": {
    "cell_id": "00063-4d5c5e08-215a-4715-a6da-2ff1aada86f3",
    "deepnote_cell_type": "code",
    "execution_millis": 3,
    "execution_start": 1604611103568,
    "output_cleared": false,
    "source_hash": "31e7d983",
    "tags": []
   },
   "outputs": [
    {
     "data": {
      "text/plain": [
       "41"
      ]
     },
     "execution_count": 541,
     "metadata": {},
     "output_type": "execute_result"
    }
   ],
   "source": [
    "sum(freq_p_10q[0])"
   ]
  },
  {
   "cell_type": "code",
   "execution_count": null,
   "metadata": {
    "cell_id": "00065-1c93a4f6-a312-4dca-a7b3-54b94e08752d",
    "deepnote_cell_type": "code",
    "execution_millis": 1,
    "execution_start": 1604611104098,
    "output_cleared": false,
    "source_hash": "51c40fe9",
    "tags": []
   },
   "outputs": [
    {
     "data": {
      "text/plain": [
       "['transparency',\n",
       " 'enhancement',\n",
       " 'able',\n",
       " 'gain',\n",
       " 'enable',\n",
       " 'enhance',\n",
       " 'improvement',\n",
       " 'attractive',\n",
       " 'achieve',\n",
       " 'satisfy',\n",
       " 'easy',\n",
       " 'strengthen',\n",
       " 'highest',\n",
       " 'greater',\n",
       " 'benefit',\n",
       " 'satisfaction',\n",
       " 'influential']"
      ]
     },
     "execution_count": 542,
     "metadata": {},
     "output_type": "execute_result"
    }
   ],
   "source": [
    "positive_10q[0]"
   ]
  },
  {
   "cell_type": "code",
   "execution_count": null,
   "metadata": {
    "cell_id": "00051-a5c692e6-5f4f-4a1f-8093-797dc112e563",
    "deepnote_cell_type": "code",
    "execution_millis": 0,
    "execution_start": 1604611105777,
    "output_cleared": false,
    "source_hash": "2e513a60",
    "tags": []
   },
   "outputs": [],
   "source": [
    "df_10q['New positive']=n_positive2\n",
    "df_10q['New negative']=n_negative2"
   ]
  },
  {
   "cell_type": "code",
   "execution_count": null,
   "metadata": {
    "cell_id": "00054-452881db-fe7e-4f35-ac3a-d9db96281694",
    "deepnote_cell_type": "code",
    "execution_millis": 3,
    "execution_start": 1604611106970,
    "output_cleared": false,
    "source_hash": "16f67dc0",
    "tags": []
   },
   "outputs": [
    {
     "data": {
      "application/vnd.deepnote.dataframe.v2+json": {
       "column_count": 7,
       "columns": [
        {
         "dtype": "object",
         "name": "Type",
         "stats": {
          "categories": [
           {
            "count": 16,
            "name": "10q"
           }
          ],
          "nan_count": 0,
          "unique_count": 1
         }
        },
        {
         "dtype": "object",
         "name": "Date",
         "stats": {
          "categories": [
           {
            "count": 1,
            "name": "2014-05-08"
           },
           {
            "count": 1,
            "name": "2014-08-11"
           },
           {
            "count": 14,
            "name": "14 others"
           }
          ],
          "nan_count": 0,
          "unique_count": 16
         }
        },
        {
         "dtype": "object",
         "name": "N Positive Words",
         "stats": {
          "categories": [
           {
            "count": 3,
            "name": "41"
           },
           {
            "count": 2,
            "name": "57"
           },
           {
            "count": 11,
            "name": "11 others"
           }
          ],
          "nan_count": 0,
          "unique_count": 13
         }
        },
        {
         "dtype": "object",
         "name": "N Negative Words",
         "stats": {
          "categories": [
           {
            "count": 3,
            "name": "56"
           },
           {
            "count": 2,
            "name": "58"
           },
           {
            "count": 11,
            "name": "10 others"
           }
          ],
          "nan_count": 0,
          "unique_count": 12
         }
        },
        {
         "dtype": "object",
         "name": "Words",
         "stats": {
          "categories": [
           {
            "count": 1,
            "name": "3714"
           },
           {
            "count": 1,
            "name": "3721"
           },
           {
            "count": 14,
            "name": "14 others"
           }
          ],
          "nan_count": 0,
          "unique_count": 16
         }
        },
        {
         "dtype": "int64",
         "name": "New positive",
         "stats": {
          "histogram": [
           {
            "bin_end": 14.3,
            "bin_start": 12,
            "count": 5
           },
           {
            "bin_end": 16.6,
            "bin_start": 14.3,
            "count": 5
           },
           {
            "bin_end": 18.9,
            "bin_start": 16.6,
            "count": 2
           },
           {
            "bin_end": 21.2,
            "bin_start": 18.9,
            "count": 2
           },
           {
            "bin_end": 23.5,
            "bin_start": 21.2,
            "count": 0
           },
           {
            "bin_end": 25.799999999999997,
            "bin_start": 23.5,
            "count": 0
           },
           {
            "bin_end": 28.099999999999998,
            "bin_start": 25.799999999999997,
            "count": 0
           },
           {
            "bin_end": 30.4,
            "bin_start": 28.099999999999998,
            "count": 0
           },
           {
            "bin_end": 32.7,
            "bin_start": 30.4,
            "count": 0
           },
           {
            "bin_end": 35,
            "bin_start": 32.7,
            "count": 2
           }
          ],
          "max": 35,
          "min": 12,
          "nan_count": 0,
          "unique_count": 8
         }
        },
        {
         "dtype": "int64",
         "name": "New negative",
         "stats": {
          "histogram": [
           {
            "bin_end": 13.9,
            "bin_start": 12,
            "count": 4
           },
           {
            "bin_end": 15.8,
            "bin_start": 13.9,
            "count": 6
           },
           {
            "bin_end": 17.7,
            "bin_start": 15.8,
            "count": 4
           },
           {
            "bin_end": 19.6,
            "bin_start": 17.7,
            "count": 0
           },
           {
            "bin_end": 21.5,
            "bin_start": 19.6,
            "count": 0
           },
           {
            "bin_end": 23.4,
            "bin_start": 21.5,
            "count": 0
           },
           {
            "bin_end": 25.299999999999997,
            "bin_start": 23.4,
            "count": 1
           },
           {
            "bin_end": 27.2,
            "bin_start": 25.299999999999997,
            "count": 0
           },
           {
            "bin_end": 29.099999999999998,
            "bin_start": 27.2,
            "count": 0
           },
           {
            "bin_end": 31,
            "bin_start": 29.099999999999998,
            "count": 1
           }
          ],
          "max": 31,
          "min": 12,
          "nan_count": 0,
          "unique_count": 7
         }
        },
        {
         "dtype": "int64",
         "name": "_deepnote_index_column"
        }
       ],
       "row_count": 16,
       "rows_bottom": null,
       "rows_top": [
        {
         "Date": "2014-05-08",
         "N Negative Words": 58,
         "N Positive Words": 41,
         "New negative": 15,
         "New positive": 17,
         "Type": "10q",
         "Words": 3714,
         "_deepnote_index_column": 0
        },
        {
         "Date": "2014-08-11",
         "N Negative Words": 54,
         "N Positive Words": 48,
         "New negative": 12,
         "New positive": 19,
         "Type": "10q",
         "Words": 3721,
         "_deepnote_index_column": 1
        },
        {
         "Date": "2014-11-06",
         "N Negative Words": 57,
         "N Positive Words": 50,
         "New negative": 13,
         "New positive": 19,
         "Type": "10q",
         "Words": 4017,
         "_deepnote_index_column": 2
        },
        {
         "Date": "2015-05-11",
         "N Negative Words": 56,
         "N Positive Words": 31,
         "New negative": 13,
         "New positive": 13,
         "Type": "10q",
         "Words": 3458,
         "_deepnote_index_column": 3
        },
        {
         "Date": "2015-08-07",
         "N Negative Words": 56,
         "N Positive Words": 36,
         "New negative": 14,
         "New positive": 15,
         "Type": "10q",
         "Words": 3773,
         "_deepnote_index_column": 4
        },
        {
         "Date": "2015-11-06",
         "N Negative Words": 53,
         "N Positive Words": 37,
         "New negative": 16,
         "New positive": 14,
         "Type": "10q",
         "Words": 3911,
         "_deepnote_index_column": 5
        },
        {
         "Date": "2016-05-03",
         "N Negative Words": 58,
         "N Positive Words": 35,
         "New negative": 13,
         "New positive": 15,
         "Type": "10q",
         "Words": 3683,
         "_deepnote_index_column": 6
        },
        {
         "Date": "2016-08-01",
         "N Negative Words": 56,
         "N Positive Words": 45,
         "New negative": 14,
         "New positive": 16,
         "Type": "10q",
         "Words": 4117,
         "_deepnote_index_column": 7
        },
        {
         "Date": "2016-11-01",
         "N Negative Words": 57,
         "N Positive Words": 39,
         "New negative": 14,
         "New positive": 12,
         "Type": "10q",
         "Words": 4190,
         "_deepnote_index_column": 8
        },
        {
         "Date": "2017-05-02",
         "N Negative Words": 63,
         "N Positive Words": 40,
         "New negative": 15,
         "New positive": 13,
         "Type": "10q",
         "Words": 3580,
         "_deepnote_index_column": 9
        },
        {
         "Date": "2017-08-03",
         "N Negative Words": 71,
         "N Positive Words": 41,
         "New negative": 16,
         "New positive": 14,
         "Type": "10q",
         "Words": 4129,
         "_deepnote_index_column": 10
        },
        {
         "Date": "2017-11-01",
         "N Negative Words": 73,
         "N Positive Words": 41,
         "New negative": 16,
         "New positive": 16,
         "Type": "10q",
         "Words": 4424,
         "_deepnote_index_column": 11
        },
        {
         "Date": "2018-05-03",
         "N Negative Words": 72,
         "N Positive Words": 47,
         "New negative": 16,
         "New positive": 15,
         "Type": "10q",
         "Words": 4062,
         "_deepnote_index_column": 12
        },
        {
         "Date": "2018-07-30",
         "N Negative Words": 87,
         "N Positive Words": 57,
         "New negative": 25,
         "New positive": 35,
         "Type": "10q",
         "Words": 4924,
         "_deepnote_index_column": 13
        },
        {
         "Date": "2018-10-30",
         "N Negative Words": 109,
         "N Positive Words": 57,
         "New negative": 31,
         "New positive": 35,
         "Type": "10q",
         "Words": 5175,
         "_deepnote_index_column": 14
        },
        {
         "Date": "2019-04-30",
         "N Negative Words": 40,
         "N Positive Words": 49,
         "New negative": 14,
         "New positive": 17,
         "Type": "10q",
         "Words": 3543,
         "_deepnote_index_column": 15
        }
       ]
      },
      "text/html": [
       "<div>\n",
       "<style scoped>\n",
       "    .dataframe tbody tr th:only-of-type {\n",
       "        vertical-align: middle;\n",
       "    }\n",
       "\n",
       "    .dataframe tbody tr th {\n",
       "        vertical-align: top;\n",
       "    }\n",
       "\n",
       "    .dataframe thead th {\n",
       "        text-align: right;\n",
       "    }\n",
       "</style>\n",
       "<table border=\"1\" class=\"dataframe\">\n",
       "  <thead>\n",
       "    <tr style=\"text-align: right;\">\n",
       "      <th></th>\n",
       "      <th>Type</th>\n",
       "      <th>Date</th>\n",
       "      <th>N Positive Words</th>\n",
       "      <th>N Negative Words</th>\n",
       "      <th>Words</th>\n",
       "      <th>New positive</th>\n",
       "      <th>New negative</th>\n",
       "    </tr>\n",
       "  </thead>\n",
       "  <tbody>\n",
       "    <tr>\n",
       "      <th>0</th>\n",
       "      <td>10q</td>\n",
       "      <td>2014-05-08</td>\n",
       "      <td>41</td>\n",
       "      <td>58</td>\n",
       "      <td>3714</td>\n",
       "      <td>17</td>\n",
       "      <td>15</td>\n",
       "    </tr>\n",
       "    <tr>\n",
       "      <th>1</th>\n",
       "      <td>10q</td>\n",
       "      <td>2014-08-11</td>\n",
       "      <td>48</td>\n",
       "      <td>54</td>\n",
       "      <td>3721</td>\n",
       "      <td>19</td>\n",
       "      <td>12</td>\n",
       "    </tr>\n",
       "    <tr>\n",
       "      <th>2</th>\n",
       "      <td>10q</td>\n",
       "      <td>2014-11-06</td>\n",
       "      <td>50</td>\n",
       "      <td>57</td>\n",
       "      <td>4017</td>\n",
       "      <td>19</td>\n",
       "      <td>13</td>\n",
       "    </tr>\n",
       "    <tr>\n",
       "      <th>3</th>\n",
       "      <td>10q</td>\n",
       "      <td>2015-05-11</td>\n",
       "      <td>31</td>\n",
       "      <td>56</td>\n",
       "      <td>3458</td>\n",
       "      <td>13</td>\n",
       "      <td>13</td>\n",
       "    </tr>\n",
       "    <tr>\n",
       "      <th>4</th>\n",
       "      <td>10q</td>\n",
       "      <td>2015-08-07</td>\n",
       "      <td>36</td>\n",
       "      <td>56</td>\n",
       "      <td>3773</td>\n",
       "      <td>15</td>\n",
       "      <td>14</td>\n",
       "    </tr>\n",
       "    <tr>\n",
       "      <th>5</th>\n",
       "      <td>10q</td>\n",
       "      <td>2015-11-06</td>\n",
       "      <td>37</td>\n",
       "      <td>53</td>\n",
       "      <td>3911</td>\n",
       "      <td>14</td>\n",
       "      <td>16</td>\n",
       "    </tr>\n",
       "    <tr>\n",
       "      <th>6</th>\n",
       "      <td>10q</td>\n",
       "      <td>2016-05-03</td>\n",
       "      <td>35</td>\n",
       "      <td>58</td>\n",
       "      <td>3683</td>\n",
       "      <td>15</td>\n",
       "      <td>13</td>\n",
       "    </tr>\n",
       "    <tr>\n",
       "      <th>7</th>\n",
       "      <td>10q</td>\n",
       "      <td>2016-08-01</td>\n",
       "      <td>45</td>\n",
       "      <td>56</td>\n",
       "      <td>4117</td>\n",
       "      <td>16</td>\n",
       "      <td>14</td>\n",
       "    </tr>\n",
       "    <tr>\n",
       "      <th>8</th>\n",
       "      <td>10q</td>\n",
       "      <td>2016-11-01</td>\n",
       "      <td>39</td>\n",
       "      <td>57</td>\n",
       "      <td>4190</td>\n",
       "      <td>12</td>\n",
       "      <td>14</td>\n",
       "    </tr>\n",
       "    <tr>\n",
       "      <th>9</th>\n",
       "      <td>10q</td>\n",
       "      <td>2017-05-02</td>\n",
       "      <td>40</td>\n",
       "      <td>63</td>\n",
       "      <td>3580</td>\n",
       "      <td>13</td>\n",
       "      <td>15</td>\n",
       "    </tr>\n",
       "    <tr>\n",
       "      <th>10</th>\n",
       "      <td>10q</td>\n",
       "      <td>2017-08-03</td>\n",
       "      <td>41</td>\n",
       "      <td>71</td>\n",
       "      <td>4129</td>\n",
       "      <td>14</td>\n",
       "      <td>16</td>\n",
       "    </tr>\n",
       "    <tr>\n",
       "      <th>11</th>\n",
       "      <td>10q</td>\n",
       "      <td>2017-11-01</td>\n",
       "      <td>41</td>\n",
       "      <td>73</td>\n",
       "      <td>4424</td>\n",
       "      <td>16</td>\n",
       "      <td>16</td>\n",
       "    </tr>\n",
       "    <tr>\n",
       "      <th>12</th>\n",
       "      <td>10q</td>\n",
       "      <td>2018-05-03</td>\n",
       "      <td>47</td>\n",
       "      <td>72</td>\n",
       "      <td>4062</td>\n",
       "      <td>15</td>\n",
       "      <td>16</td>\n",
       "    </tr>\n",
       "    <tr>\n",
       "      <th>13</th>\n",
       "      <td>10q</td>\n",
       "      <td>2018-07-30</td>\n",
       "      <td>57</td>\n",
       "      <td>87</td>\n",
       "      <td>4924</td>\n",
       "      <td>35</td>\n",
       "      <td>25</td>\n",
       "    </tr>\n",
       "    <tr>\n",
       "      <th>14</th>\n",
       "      <td>10q</td>\n",
       "      <td>2018-10-30</td>\n",
       "      <td>57</td>\n",
       "      <td>109</td>\n",
       "      <td>5175</td>\n",
       "      <td>35</td>\n",
       "      <td>31</td>\n",
       "    </tr>\n",
       "    <tr>\n",
       "      <th>15</th>\n",
       "      <td>10q</td>\n",
       "      <td>2019-04-30</td>\n",
       "      <td>49</td>\n",
       "      <td>40</td>\n",
       "      <td>3543</td>\n",
       "      <td>17</td>\n",
       "      <td>14</td>\n",
       "    </tr>\n",
       "  </tbody>\n",
       "</table>\n",
       "</div>"
      ],
      "text/plain": [
       "   Type        Date N Positive Words N Negative Words Words  New positive  \\\n",
       "0   10q  2014-05-08               41               58  3714            17   \n",
       "1   10q  2014-08-11               48               54  3721            19   \n",
       "2   10q  2014-11-06               50               57  4017            19   \n",
       "3   10q  2015-05-11               31               56  3458            13   \n",
       "4   10q  2015-08-07               36               56  3773            15   \n",
       "5   10q  2015-11-06               37               53  3911            14   \n",
       "6   10q  2016-05-03               35               58  3683            15   \n",
       "7   10q  2016-08-01               45               56  4117            16   \n",
       "8   10q  2016-11-01               39               57  4190            12   \n",
       "9   10q  2017-05-02               40               63  3580            13   \n",
       "10  10q  2017-08-03               41               71  4129            14   \n",
       "11  10q  2017-11-01               41               73  4424            16   \n",
       "12  10q  2018-05-03               47               72  4062            15   \n",
       "13  10q  2018-07-30               57               87  4924            35   \n",
       "14  10q  2018-10-30               57              109  5175            35   \n",
       "15  10q  2019-04-30               49               40  3543            17   \n",
       "\n",
       "    New negative  \n",
       "0             15  \n",
       "1             12  \n",
       "2             13  \n",
       "3             13  \n",
       "4             14  \n",
       "5             16  \n",
       "6             13  \n",
       "7             14  \n",
       "8             14  \n",
       "9             15  \n",
       "10            16  \n",
       "11            16  \n",
       "12            16  \n",
       "13            25  \n",
       "14            31  \n",
       "15            14  "
      ]
     },
     "execution_count": 544,
     "metadata": {},
     "output_type": "execute_result"
    }
   ],
   "source": [
    "df_10q"
   ]
  },
  {
   "cell_type": "code",
   "execution_count": null,
   "metadata": {
    "cell_id": "00054-263ca4a4-55a8-45f3-9727-32530eeba475",
    "deepnote_cell_type": "code",
    "execution_millis": 0,
    "execution_start": 1604611109733,
    "output_cleared": false,
    "source_hash": "c46baba0",
    "tags": []
   },
   "outputs": [],
   "source": [
    "response_df_10k=response_df[response_df.Type=='10ks']\n",
    "response_df_10q=response_df[response_df.Type=='10qs']"
   ]
  },
  {
   "cell_type": "code",
   "execution_count": null,
   "metadata": {
    "cell_id": "00054-e39d633f-6e7a-4e6b-8585-19a829d7762b",
    "deepnote_cell_type": "code",
    "execution_millis": 3,
    "execution_start": 1604611110223,
    "output_cleared": false,
    "source_hash": "d0dc00ef",
    "tags": []
   },
   "outputs": [
    {
     "data": {
      "application/vnd.deepnote.dataframe.v2+json": {
       "column_count": 7,
       "columns": [
        {
         "dtype": "object",
         "name": "Type",
         "stats": {
          "categories": [
           {
            "count": 6,
            "name": "10k"
           }
          ],
          "nan_count": 0,
          "unique_count": 1
         }
        },
        {
         "dtype": "object",
         "name": "Date",
         "stats": {
          "categories": [
           {
            "count": 1,
            "name": "2014-03-06"
           },
           {
            "count": 1,
            "name": "2015-03-02"
           },
           {
            "count": 4,
            "name": "4 others"
           }
          ],
          "nan_count": 0,
          "unique_count": 6
         }
        },
        {
         "dtype": "object",
         "name": "N Positive Words",
         "stats": {
          "categories": [
           {
            "count": 2,
            "name": "26"
           },
           {
            "count": 1,
            "name": "25"
           },
           {
            "count": 3,
            "name": "3 others"
           }
          ],
          "nan_count": 0,
          "unique_count": 5
         }
        },
        {
         "dtype": "object",
         "name": "N Negative Words",
         "stats": {
          "categories": [
           {
            "count": 2,
            "name": "27"
           },
           {
            "count": 1,
            "name": "25"
           },
           {
            "count": 3,
            "name": "3 others"
           }
          ],
          "nan_count": 0,
          "unique_count": 5
         }
        },
        {
         "dtype": "object",
         "name": "Words",
         "stats": {
          "categories": [
           {
            "count": 1,
            "name": "7063"
           },
           {
            "count": 1,
            "name": "6666"
           },
           {
            "count": 4,
            "name": "4 others"
           }
          ],
          "nan_count": 0,
          "unique_count": 6
         }
        },
        {
         "dtype": "int64",
         "name": "New positive",
         "stats": {
          "histogram": [
           {
            "bin_end": 29,
            "bin_start": 26,
            "count": 1
           },
           {
            "bin_end": 32,
            "bin_start": 29,
            "count": 1
           },
           {
            "bin_end": 35,
            "bin_start": 32,
            "count": 1
           },
           {
            "bin_end": 38,
            "bin_start": 35,
            "count": 1
           },
           {
            "bin_end": 41,
            "bin_start": 38,
            "count": 1
           },
           {
            "bin_end": 44,
            "bin_start": 41,
            "count": 0
           },
           {
            "bin_end": 47,
            "bin_start": 44,
            "count": 0
           },
           {
            "bin_end": 50,
            "bin_start": 47,
            "count": 0
           },
           {
            "bin_end": 53,
            "bin_start": 50,
            "count": 0
           },
           {
            "bin_end": 56,
            "bin_start": 53,
            "count": 1
           }
          ],
          "max": 56,
          "min": 26,
          "nan_count": 0,
          "unique_count": 6
         }
        },
        {
         "dtype": "int64",
         "name": "New negative",
         "stats": {
          "histogram": [
           {
            "bin_end": 34.3,
            "bin_start": 32,
            "count": 1
           },
           {
            "bin_end": 36.6,
            "bin_start": 34.3,
            "count": 2
           },
           {
            "bin_end": 38.9,
            "bin_start": 36.6,
            "count": 0
           },
           {
            "bin_end": 41.2,
            "bin_start": 38.9,
            "count": 1
           },
           {
            "bin_end": 43.5,
            "bin_start": 41.2,
            "count": 0
           },
           {
            "bin_end": 45.8,
            "bin_start": 43.5,
            "count": 0
           },
           {
            "bin_end": 48.099999999999994,
            "bin_start": 45.8,
            "count": 1
           },
           {
            "bin_end": 50.4,
            "bin_start": 48.099999999999994,
            "count": 0
           },
           {
            "bin_end": 52.7,
            "bin_start": 50.4,
            "count": 0
           },
           {
            "bin_end": 55,
            "bin_start": 52.7,
            "count": 1
           }
          ],
          "max": 55,
          "min": 32,
          "nan_count": 0,
          "unique_count": 6
         }
        },
        {
         "dtype": "int64",
         "name": "_deepnote_index_column"
        }
       ],
       "row_count": 6,
       "rows_bottom": null,
       "rows_top": [
        {
         "Date": "2014-03-06",
         "N Negative Words": 27,
         "N Positive Words": 26,
         "New negative": 36,
         "New positive": 56,
         "Type": "10k",
         "Words": 7063,
         "_deepnote_index_column": 0
        },
        {
         "Date": "2015-03-02",
         "N Negative Words": 27,
         "N Positive Words": 25,
         "New negative": 35,
         "New positive": 35,
         "Type": "10k",
         "Words": 6666,
         "_deepnote_index_column": 1
        },
        {
         "Date": "2016-02-29",
         "N Negative Words": 25,
         "N Positive Words": 26,
         "New negative": 32,
         "New positive": 26,
         "Type": "10k",
         "Words": 6222,
         "_deepnote_index_column": 2
        },
        {
         "Date": "2017-02-27",
         "N Negative Words": 31,
         "N Positive Words": 31,
         "New negative": 41,
         "New positive": 31,
         "Type": "10k",
         "Words": 6581,
         "_deepnote_index_column": 3
        },
        {
         "Date": "2018-02-23",
         "N Negative Words": 35,
         "N Positive Words": 32,
         "New negative": 55,
         "New positive": 32,
         "Type": "10k",
         "Words": 6928,
         "_deepnote_index_column": 4
        },
        {
         "Date": "2019-02-21",
         "N Negative Words": 33,
         "N Positive Words": 29,
         "New negative": 48,
         "New positive": 39,
         "Type": "10k",
         "Words": 6774,
         "_deepnote_index_column": 5
        }
       ]
      },
      "text/html": [
       "<div>\n",
       "<style scoped>\n",
       "    .dataframe tbody tr th:only-of-type {\n",
       "        vertical-align: middle;\n",
       "    }\n",
       "\n",
       "    .dataframe tbody tr th {\n",
       "        vertical-align: top;\n",
       "    }\n",
       "\n",
       "    .dataframe thead th {\n",
       "        text-align: right;\n",
       "    }\n",
       "</style>\n",
       "<table border=\"1\" class=\"dataframe\">\n",
       "  <thead>\n",
       "    <tr style=\"text-align: right;\">\n",
       "      <th></th>\n",
       "      <th>Type</th>\n",
       "      <th>Date</th>\n",
       "      <th>N Positive Words</th>\n",
       "      <th>N Negative Words</th>\n",
       "      <th>Words</th>\n",
       "      <th>New positive</th>\n",
       "      <th>New negative</th>\n",
       "    </tr>\n",
       "  </thead>\n",
       "  <tbody>\n",
       "    <tr>\n",
       "      <th>0</th>\n",
       "      <td>10k</td>\n",
       "      <td>2014-03-06</td>\n",
       "      <td>26</td>\n",
       "      <td>27</td>\n",
       "      <td>7063</td>\n",
       "      <td>56</td>\n",
       "      <td>36</td>\n",
       "    </tr>\n",
       "    <tr>\n",
       "      <th>1</th>\n",
       "      <td>10k</td>\n",
       "      <td>2015-03-02</td>\n",
       "      <td>25</td>\n",
       "      <td>27</td>\n",
       "      <td>6666</td>\n",
       "      <td>35</td>\n",
       "      <td>35</td>\n",
       "    </tr>\n",
       "    <tr>\n",
       "      <th>2</th>\n",
       "      <td>10k</td>\n",
       "      <td>2016-02-29</td>\n",
       "      <td>26</td>\n",
       "      <td>25</td>\n",
       "      <td>6222</td>\n",
       "      <td>26</td>\n",
       "      <td>32</td>\n",
       "    </tr>\n",
       "    <tr>\n",
       "      <th>3</th>\n",
       "      <td>10k</td>\n",
       "      <td>2017-02-27</td>\n",
       "      <td>31</td>\n",
       "      <td>31</td>\n",
       "      <td>6581</td>\n",
       "      <td>31</td>\n",
       "      <td>41</td>\n",
       "    </tr>\n",
       "    <tr>\n",
       "      <th>4</th>\n",
       "      <td>10k</td>\n",
       "      <td>2018-02-23</td>\n",
       "      <td>32</td>\n",
       "      <td>35</td>\n",
       "      <td>6928</td>\n",
       "      <td>32</td>\n",
       "      <td>55</td>\n",
       "    </tr>\n",
       "    <tr>\n",
       "      <th>5</th>\n",
       "      <td>10k</td>\n",
       "      <td>2019-02-21</td>\n",
       "      <td>29</td>\n",
       "      <td>33</td>\n",
       "      <td>6774</td>\n",
       "      <td>39</td>\n",
       "      <td>48</td>\n",
       "    </tr>\n",
       "  </tbody>\n",
       "</table>\n",
       "</div>"
      ],
      "text/plain": [
       "  Type        Date N Positive Words N Negative Words Words  New positive  \\\n",
       "0  10k  2014-03-06               26               27  7063            56   \n",
       "1  10k  2015-03-02               25               27  6666            35   \n",
       "2  10k  2016-02-29               26               25  6222            26   \n",
       "3  10k  2017-02-27               31               31  6581            31   \n",
       "4  10k  2018-02-23               32               35  6928            32   \n",
       "5  10k  2019-02-21               29               33  6774            39   \n",
       "\n",
       "   New negative  \n",
       "0            36  \n",
       "1            35  \n",
       "2            32  \n",
       "3            41  \n",
       "4            55  \n",
       "5            48  "
      ]
     },
     "execution_count": 546,
     "metadata": {},
     "output_type": "execute_result"
    }
   ],
   "source": [
    "df_10k"
   ]
  },
  {
   "cell_type": "code",
   "execution_count": null,
   "metadata": {
    "cell_id": "00056-06cc3125-f099-47a6-9bfc-171ab16a8861",
    "deepnote_cell_type": "code",
    "execution_millis": 1,
    "execution_start": 1604611110743,
    "output_cleared": false,
    "source_hash": "ae37a490",
    "tags": []
   },
   "outputs": [
    {
     "data": {
      "application/vnd.deepnote.dataframe.v2+json": {
       "column_count": 4,
       "columns": [
        {
         "dtype": "object",
         "name": "Company",
         "stats": {
          "categories": [
           {
            "count": 6,
            "name": "TWTR"
           }
          ],
          "nan_count": 0,
          "unique_count": 1
         }
        },
        {
         "dtype": "object",
         "name": "Type",
         "stats": {
          "categories": [
           {
            "count": 6,
            "name": "10ks"
           }
          ],
          "nan_count": 0,
          "unique_count": 1
         }
        },
        {
         "dtype": "object",
         "name": "Date",
         "stats": {
          "categories": [
           {
            "count": 1,
            "name": "2014-03-06"
           },
           {
            "count": 1,
            "name": "2015-03-02"
           },
           {
            "count": 4,
            "name": "4 others"
           }
          ],
          "nan_count": 0,
          "unique_count": 6
         }
        },
        {
         "dtype": "int64",
         "name": "Positive Return",
         "stats": {
          "histogram": [
           {
            "bin_end": -0.8,
            "bin_start": -1,
            "count": 4
           },
           {
            "bin_end": -0.6,
            "bin_start": -0.8,
            "count": 0
           },
           {
            "bin_end": -0.3999999999999999,
            "bin_start": -0.6,
            "count": 0
           },
           {
            "bin_end": -0.19999999999999996,
            "bin_start": -0.3999999999999999,
            "count": 0
           },
           {
            "bin_end": 0,
            "bin_start": -0.19999999999999996,
            "count": 0
           },
           {
            "bin_end": 0.20000000000000018,
            "bin_start": 0,
            "count": 0
           },
           {
            "bin_end": 0.40000000000000013,
            "bin_start": 0.20000000000000018,
            "count": 0
           },
           {
            "bin_end": 0.6000000000000001,
            "bin_start": 0.40000000000000013,
            "count": 0
           },
           {
            "bin_end": 0.8,
            "bin_start": 0.6000000000000001,
            "count": 0
           },
           {
            "bin_end": 1,
            "bin_start": 0.8,
            "count": 2
           }
          ],
          "max": 1,
          "min": -1,
          "nan_count": 0,
          "unique_count": 2
         }
        },
        {
         "dtype": "int64",
         "name": "_deepnote_index_column"
        }
       ],
       "row_count": 6,
       "rows_bottom": null,
       "rows_top": [
        {
         "Company": "TWTR",
         "Date": "2014-03-06",
         "Positive Return": -1,
         "Type": "10ks",
         "_deepnote_index_column": 0
        },
        {
         "Company": "TWTR",
         "Date": "2015-03-02",
         "Positive Return": -1,
         "Type": "10ks",
         "_deepnote_index_column": 4
        },
        {
         "Company": "TWTR",
         "Date": "2016-02-29",
         "Positive Return": -1,
         "Type": "10ks",
         "_deepnote_index_column": 8
        },
        {
         "Company": "TWTR",
         "Date": "2017-02-27",
         "Positive Return": 1,
         "Type": "10ks",
         "_deepnote_index_column": 12
        },
        {
         "Company": "TWTR",
         "Date": "2018-02-23",
         "Positive Return": -1,
         "Type": "10ks",
         "_deepnote_index_column": 16
        },
        {
         "Company": "TWTR",
         "Date": "2019-02-21",
         "Positive Return": 1,
         "Type": "10ks",
         "_deepnote_index_column": 20
        }
       ]
      },
      "text/html": [
       "<div>\n",
       "<style scoped>\n",
       "    .dataframe tbody tr th:only-of-type {\n",
       "        vertical-align: middle;\n",
       "    }\n",
       "\n",
       "    .dataframe tbody tr th {\n",
       "        vertical-align: top;\n",
       "    }\n",
       "\n",
       "    .dataframe thead th {\n",
       "        text-align: right;\n",
       "    }\n",
       "</style>\n",
       "<table border=\"1\" class=\"dataframe\">\n",
       "  <thead>\n",
       "    <tr style=\"text-align: right;\">\n",
       "      <th></th>\n",
       "      <th>Company</th>\n",
       "      <th>Type</th>\n",
       "      <th>Date</th>\n",
       "      <th>Positive Return</th>\n",
       "    </tr>\n",
       "  </thead>\n",
       "  <tbody>\n",
       "    <tr>\n",
       "      <th>0</th>\n",
       "      <td>TWTR</td>\n",
       "      <td>10ks</td>\n",
       "      <td>2014-03-06</td>\n",
       "      <td>-1</td>\n",
       "    </tr>\n",
       "    <tr>\n",
       "      <th>4</th>\n",
       "      <td>TWTR</td>\n",
       "      <td>10ks</td>\n",
       "      <td>2015-03-02</td>\n",
       "      <td>-1</td>\n",
       "    </tr>\n",
       "    <tr>\n",
       "      <th>8</th>\n",
       "      <td>TWTR</td>\n",
       "      <td>10ks</td>\n",
       "      <td>2016-02-29</td>\n",
       "      <td>-1</td>\n",
       "    </tr>\n",
       "    <tr>\n",
       "      <th>12</th>\n",
       "      <td>TWTR</td>\n",
       "      <td>10ks</td>\n",
       "      <td>2017-02-27</td>\n",
       "      <td>1</td>\n",
       "    </tr>\n",
       "    <tr>\n",
       "      <th>16</th>\n",
       "      <td>TWTR</td>\n",
       "      <td>10ks</td>\n",
       "      <td>2018-02-23</td>\n",
       "      <td>-1</td>\n",
       "    </tr>\n",
       "    <tr>\n",
       "      <th>20</th>\n",
       "      <td>TWTR</td>\n",
       "      <td>10ks</td>\n",
       "      <td>2019-02-21</td>\n",
       "      <td>1</td>\n",
       "    </tr>\n",
       "  </tbody>\n",
       "</table>\n",
       "</div>"
      ],
      "text/plain": [
       "   Company  Type        Date  Positive Return\n",
       "0     TWTR  10ks  2014-03-06               -1\n",
       "4     TWTR  10ks  2015-03-02               -1\n",
       "8     TWTR  10ks  2016-02-29               -1\n",
       "12    TWTR  10ks  2017-02-27                1\n",
       "16    TWTR  10ks  2018-02-23               -1\n",
       "20    TWTR  10ks  2019-02-21                1"
      ]
     },
     "execution_count": 547,
     "metadata": {},
     "output_type": "execute_result"
    }
   ],
   "source": [
    "response_df_10k"
   ]
  },
  {
   "cell_type": "code",
   "execution_count": null,
   "metadata": {
    "cell_id": "00050-bf31c5ca-a490-4a02-a481-8d561d33b10b",
    "deepnote_cell_type": "code",
    "execution_millis": 3,
    "execution_start": 1604611111208,
    "output_cleared": false,
    "source_hash": "dfa5f83d",
    "tags": []
   },
   "outputs": [],
   "source": [
    "result = pd.merge(df_10k, response_df_10k, on='Date')\n",
    "result2 = pd.merge(df_10q,response_df_10q, on='Date')"
   ]
  },
  {
   "cell_type": "code",
   "execution_count": null,
   "metadata": {
    "cell_id": "00075-19cfac51-42ac-4188-8bd9-a499e325ce8a",
    "deepnote_cell_type": "code",
    "execution_millis": 1,
    "execution_start": 1604633987924,
    "output_cleared": false,
    "source_hash": "7dd6f33f",
    "tags": []
   },
   "outputs": [
    {
     "data": {
      "text/plain": [
       "0    -1\n",
       "0     1\n",
       "1     1\n",
       "2    -1\n",
       "1    -1\n",
       "3    -1\n",
       "4    -1\n",
       "5    -1\n",
       "2    -1\n",
       "6     1\n",
       "7     1\n",
       "8    -1\n",
       "3     1\n",
       "9     1\n",
       "10    1\n",
       "11    1\n",
       "4    -1\n",
       "12    1\n",
       "13   -1\n",
       "14   -1\n",
       "5     1\n",
       "15   -1\n",
       "Name: Positive Return, dtype: int64"
      ]
     },
     "execution_count": 573,
     "metadata": {},
     "output_type": "execute_result"
    }
   ],
   "source": [
    "df_test = result.append(result2).sort_values(by='Date')\n",
    "\n",
    "df_test.iloc[:,9]"
   ]
  },
  {
   "cell_type": "code",
   "execution_count": null,
   "metadata": {
    "cell_id": "00075-c94ab6f1-808f-4277-873c-47265f6e2bbd",
    "deepnote_cell_type": "code",
    "execution_millis": 808,
    "execution_start": 1604634247613,
    "output_cleared": false,
    "source_hash": "84faf682",
    "tags": []
   },
   "outputs": [
    {
     "name": "stdout",
     "output_type": "stream",
     "text": [
      "train score: 0.735\n",
      "test score: 0.5333333333333333\n"
     ]
    }
   ],
   "source": [
    "from sklearn import svm\n",
    "from sklearn import model_selection\n",
    "\n",
    "\n",
    "\n",
    "train_a = 0\n",
    "test_a = 0\n",
    "n =100\n",
    "for i in range(n):\n",
    "    X = df_test.iloc[:,2:4]\n",
    "    y = df_test.iloc[:,9]\n",
    "    train_X,test_X,train_y,test_y = model_selection.train_test_split(X,y,random_state=i)\n",
    "\n",
    "    clf = svm.SVC()\n",
    "    clf.fit(train_X, train_y)\n",
    "    train_a += clf.score(train_X,train_y)\n",
    "    test_a += sum((clf.predict(test_X)==test_y))/len(test_y)\n",
    "print('train score:',train_a/n)\n",
    "print('test score:',test_a/n)"
   ]
  },
  {
   "cell_type": "code",
   "execution_count": null,
   "metadata": {
    "cell_id": "00077-7cf3627c-9f67-4f8a-bbe8-20f8cdecc8f8",
    "deepnote_cell_type": "code",
    "execution_millis": 0,
    "execution_start": 1604634244713,
    "output_cleared": false,
    "source_hash": "6af36057",
    "tags": []
   },
   "outputs": [
    {
     "data": {
      "text/plain": [
       "0.7727272727272727"
      ]
     },
     "execution_count": 578,
     "metadata": {},
     "output_type": "execute_result"
    }
   ],
   "source": [
    "X = df_test.iloc[:,2:4]\n",
    "y = df_test.iloc[:,9]\n",
    "train_X,test_X,train_y,test_y = model_selection.train_test_split(X,y,random_state=i)\n",
    "\n",
    "clf = svm.SVC()\n",
    "clf.fit(X, y)\n",
    "clf.score(X,y)"
   ]
  },
  {
   "cell_type": "code",
   "execution_count": null,
   "metadata": {
    "cell_id": "00059-d77c24ed-199a-47c9-9e47-1878a1f1ed14",
    "deepnote_cell_type": "code",
    "execution_millis": 3,
    "execution_start": 1604611112697,
    "output_cleared": false,
    "source_hash": "707d1e3a",
    "tags": []
   },
   "outputs": [],
   "source": [
    "result['Signal LM']=np.where(result['N Positive Words']>result['N Negative Words'],1,-1)\n",
    "result['Signal LM extended']=np.where(result['New positive']>result['New negative'],1,-1)\n",
    "result['Correctness LM']=np.where(result['Signal LM']==result['Positive Return'],1,0)\n",
    "result['Correctness LM extended']=np.where(result['Signal LM extended']==result['Positive Return'],1,0)\n",
    "scoreLM_10k=result['Correctness LM'].sum()/len(result['Correctness LM'])\n",
    "scoreLM_extended_10k=result['Correctness LM extended'].sum()/len(result['Correctness LM extended'])\n"
   ]
  },
  {
   "cell_type": "code",
   "execution_count": null,
   "metadata": {
    "cell_id": "00060-238c35dc-c86d-41f8-bb5e-0c8eb6a106b0",
    "deepnote_cell_type": "code",
    "execution_millis": 2,
    "execution_start": 1604611113239,
    "output_cleared": false,
    "source_hash": "a7fe782c",
    "tags": []
   },
   "outputs": [],
   "source": [
    "result2['Signal LM']=np.where(result2['N Positive Words']>result2['N Negative Words'],1,-1)\n",
    "result2['Signal LM extended']=np.where(result2['New positive']>result2['New negative'],1,-1)\n",
    "result2['Correctness LM']=np.where(result2['Signal LM']==result2['Positive Return'],1,0)\n",
    "result2['Correctness LM extended']=np.where(result2['Signal LM extended']==result2['Positive Return'],1,0)\n",
    "scoreLM_10q=result2['Correctness LM'].sum()/len(result2['Correctness LM'])\n",
    "scoreLM_extended_10q=result2['Correctness LM extended'].sum()/len(result2['Correctness LM extended'])\n"
   ]
  },
  {
   "cell_type": "code",
   "execution_count": null,
   "metadata": {
    "cell_id": "00073-3c9bfb58-582d-4278-818a-fbacca4833e2",
    "deepnote_cell_type": "code",
    "execution_millis": 6,
    "execution_start": 1604611113875,
    "output_cleared": false,
    "source_hash": "45c33b28",
    "tags": []
   },
   "outputs": [
    {
     "data": {
      "application/vnd.deepnote.dataframe.v2+json": {
       "column_count": 14,
       "columns": [
        {
         "dtype": "object",
         "name": "Type_x",
         "stats": {
          "categories": [
           {
            "count": 16,
            "name": "10q"
           }
          ],
          "nan_count": 0,
          "unique_count": 1
         }
        },
        {
         "dtype": "object",
         "name": "Date",
         "stats": {
          "categories": [
           {
            "count": 1,
            "name": "2014-05-08"
           },
           {
            "count": 1,
            "name": "2014-08-11"
           },
           {
            "count": 14,
            "name": "14 others"
           }
          ],
          "nan_count": 0,
          "unique_count": 16
         }
        },
        {
         "dtype": "object",
         "name": "N Positive Words",
         "stats": {
          "categories": [
           {
            "count": 3,
            "name": "41"
           },
           {
            "count": 2,
            "name": "57"
           },
           {
            "count": 11,
            "name": "11 others"
           }
          ],
          "nan_count": 0,
          "unique_count": 13
         }
        },
        {
         "dtype": "object",
         "name": "N Negative Words",
         "stats": {
          "categories": [
           {
            "count": 3,
            "name": "56"
           },
           {
            "count": 2,
            "name": "58"
           },
           {
            "count": 11,
            "name": "10 others"
           }
          ],
          "nan_count": 0,
          "unique_count": 12
         }
        },
        {
         "dtype": "object",
         "name": "Words",
         "stats": {
          "categories": [
           {
            "count": 1,
            "name": "3714"
           },
           {
            "count": 1,
            "name": "3721"
           },
           {
            "count": 14,
            "name": "14 others"
           }
          ],
          "nan_count": 0,
          "unique_count": 16
         }
        },
        {
         "dtype": "int64",
         "name": "New positive",
         "stats": {
          "histogram": [
           {
            "bin_end": 14.3,
            "bin_start": 12,
            "count": 5
           },
           {
            "bin_end": 16.6,
            "bin_start": 14.3,
            "count": 5
           },
           {
            "bin_end": 18.9,
            "bin_start": 16.6,
            "count": 2
           },
           {
            "bin_end": 21.2,
            "bin_start": 18.9,
            "count": 2
           },
           {
            "bin_end": 23.5,
            "bin_start": 21.2,
            "count": 0
           },
           {
            "bin_end": 25.799999999999997,
            "bin_start": 23.5,
            "count": 0
           },
           {
            "bin_end": 28.099999999999998,
            "bin_start": 25.799999999999997,
            "count": 0
           },
           {
            "bin_end": 30.4,
            "bin_start": 28.099999999999998,
            "count": 0
           },
           {
            "bin_end": 32.7,
            "bin_start": 30.4,
            "count": 0
           },
           {
            "bin_end": 35,
            "bin_start": 32.7,
            "count": 2
           }
          ],
          "max": 35,
          "min": 12,
          "nan_count": 0,
          "unique_count": 8
         }
        },
        {
         "dtype": "int64",
         "name": "New negative",
         "stats": {
          "histogram": [
           {
            "bin_end": 13.9,
            "bin_start": 12,
            "count": 4
           },
           {
            "bin_end": 15.8,
            "bin_start": 13.9,
            "count": 6
           },
           {
            "bin_end": 17.7,
            "bin_start": 15.8,
            "count": 4
           },
           {
            "bin_end": 19.6,
            "bin_start": 17.7,
            "count": 0
           },
           {
            "bin_end": 21.5,
            "bin_start": 19.6,
            "count": 0
           },
           {
            "bin_end": 23.4,
            "bin_start": 21.5,
            "count": 0
           },
           {
            "bin_end": 25.299999999999997,
            "bin_start": 23.4,
            "count": 1
           },
           {
            "bin_end": 27.2,
            "bin_start": 25.299999999999997,
            "count": 0
           },
           {
            "bin_end": 29.099999999999998,
            "bin_start": 27.2,
            "count": 0
           },
           {
            "bin_end": 31,
            "bin_start": 29.099999999999998,
            "count": 1
           }
          ],
          "max": 31,
          "min": 12,
          "nan_count": 0,
          "unique_count": 7
         }
        },
        {
         "dtype": "object",
         "name": "Company",
         "stats": {
          "categories": [
           {
            "count": 16,
            "name": "TWTR"
           }
          ],
          "nan_count": 0,
          "unique_count": 1
         }
        },
        {
         "dtype": "object",
         "name": "Type_y",
         "stats": {
          "categories": [
           {
            "count": 16,
            "name": "10qs"
           }
          ],
          "nan_count": 0,
          "unique_count": 1
         }
        },
        {
         "dtype": "int64",
         "name": "Positive Return",
         "stats": {
          "histogram": [
           {
            "bin_end": -0.8,
            "bin_start": -1,
            "count": 8
           },
           {
            "bin_end": -0.6,
            "bin_start": -0.8,
            "count": 0
           },
           {
            "bin_end": -0.3999999999999999,
            "bin_start": -0.6,
            "count": 0
           },
           {
            "bin_end": -0.19999999999999996,
            "bin_start": -0.3999999999999999,
            "count": 0
           },
           {
            "bin_end": 0,
            "bin_start": -0.19999999999999996,
            "count": 0
           },
           {
            "bin_end": 0.20000000000000018,
            "bin_start": 0,
            "count": 0
           },
           {
            "bin_end": 0.40000000000000013,
            "bin_start": 0.20000000000000018,
            "count": 0
           },
           {
            "bin_end": 0.6000000000000001,
            "bin_start": 0.40000000000000013,
            "count": 0
           },
           {
            "bin_end": 0.8,
            "bin_start": 0.6000000000000001,
            "count": 0
           },
           {
            "bin_end": 1,
            "bin_start": 0.8,
            "count": 8
           }
          ],
          "max": 1,
          "min": -1,
          "nan_count": 0,
          "unique_count": 2
         }
        },
        {
         "dtype": "int64",
         "name": "Signal LM",
         "stats": {
          "histogram": [
           {
            "bin_end": -0.8,
            "bin_start": -1,
            "count": 15
           },
           {
            "bin_end": -0.6,
            "bin_start": -0.8,
            "count": 0
           },
           {
            "bin_end": -0.3999999999999999,
            "bin_start": -0.6,
            "count": 0
           },
           {
            "bin_end": -0.19999999999999996,
            "bin_start": -0.3999999999999999,
            "count": 0
           },
           {
            "bin_end": 0,
            "bin_start": -0.19999999999999996,
            "count": 0
           },
           {
            "bin_end": 0.20000000000000018,
            "bin_start": 0,
            "count": 0
           },
           {
            "bin_end": 0.40000000000000013,
            "bin_start": 0.20000000000000018,
            "count": 0
           },
           {
            "bin_end": 0.6000000000000001,
            "bin_start": 0.40000000000000013,
            "count": 0
           },
           {
            "bin_end": 0.8,
            "bin_start": 0.6000000000000001,
            "count": 0
           },
           {
            "bin_end": 1,
            "bin_start": 0.8,
            "count": 1
           }
          ],
          "max": 1,
          "min": -1,
          "nan_count": 0,
          "unique_count": 2
         }
        },
        {
         "dtype": "int64",
         "name": "Signal LM extended",
         "stats": {
          "histogram": [
           {
            "bin_end": -0.8,
            "bin_start": -1,
            "count": 7
           },
           {
            "bin_end": -0.6,
            "bin_start": -0.8,
            "count": 0
           },
           {
            "bin_end": -0.3999999999999999,
            "bin_start": -0.6,
            "count": 0
           },
           {
            "bin_end": -0.19999999999999996,
            "bin_start": -0.3999999999999999,
            "count": 0
           },
           {
            "bin_end": 0,
            "bin_start": -0.19999999999999996,
            "count": 0
           },
           {
            "bin_end": 0.20000000000000018,
            "bin_start": 0,
            "count": 0
           },
           {
            "bin_end": 0.40000000000000013,
            "bin_start": 0.20000000000000018,
            "count": 0
           },
           {
            "bin_end": 0.6000000000000001,
            "bin_start": 0.40000000000000013,
            "count": 0
           },
           {
            "bin_end": 0.8,
            "bin_start": 0.6000000000000001,
            "count": 0
           },
           {
            "bin_end": 1,
            "bin_start": 0.8,
            "count": 9
           }
          ],
          "max": 1,
          "min": -1,
          "nan_count": 0,
          "unique_count": 2
         }
        },
        {
         "dtype": "int64",
         "name": "Correctness LM",
         "stats": {
          "histogram": [
           {
            "bin_end": 0.1,
            "bin_start": 0,
            "count": 9
           },
           {
            "bin_end": 0.2,
            "bin_start": 0.1,
            "count": 0
           },
           {
            "bin_end": 0.30000000000000004,
            "bin_start": 0.2,
            "count": 0
           },
           {
            "bin_end": 0.4,
            "bin_start": 0.30000000000000004,
            "count": 0
           },
           {
            "bin_end": 0.5,
            "bin_start": 0.4,
            "count": 0
           },
           {
            "bin_end": 0.6000000000000001,
            "bin_start": 0.5,
            "count": 0
           },
           {
            "bin_end": 0.7000000000000001,
            "bin_start": 0.6000000000000001,
            "count": 0
           },
           {
            "bin_end": 0.8,
            "bin_start": 0.7000000000000001,
            "count": 0
           },
           {
            "bin_end": 0.9,
            "bin_start": 0.8,
            "count": 0
           },
           {
            "bin_end": 1,
            "bin_start": 0.9,
            "count": 7
           }
          ],
          "max": 1,
          "min": 0,
          "nan_count": 0,
          "unique_count": 2
         }
        },
        {
         "dtype": "int64",
         "name": "Correctness LM extended",
         "stats": {
          "histogram": [
           {
            "bin_end": 0.1,
            "bin_start": 0,
            "count": 9
           },
           {
            "bin_end": 0.2,
            "bin_start": 0.1,
            "count": 0
           },
           {
            "bin_end": 0.30000000000000004,
            "bin_start": 0.2,
            "count": 0
           },
           {
            "bin_end": 0.4,
            "bin_start": 0.30000000000000004,
            "count": 0
           },
           {
            "bin_end": 0.5,
            "bin_start": 0.4,
            "count": 0
           },
           {
            "bin_end": 0.6000000000000001,
            "bin_start": 0.5,
            "count": 0
           },
           {
            "bin_end": 0.7000000000000001,
            "bin_start": 0.6000000000000001,
            "count": 0
           },
           {
            "bin_end": 0.8,
            "bin_start": 0.7000000000000001,
            "count": 0
           },
           {
            "bin_end": 0.9,
            "bin_start": 0.8,
            "count": 0
           },
           {
            "bin_end": 1,
            "bin_start": 0.9,
            "count": 7
           }
          ],
          "max": 1,
          "min": 0,
          "nan_count": 0,
          "unique_count": 2
         }
        },
        {
         "dtype": "int64",
         "name": "_deepnote_index_column"
        }
       ],
       "row_count": 16,
       "rows_bottom": null,
       "rows_top": [
        {
         "Company": "TWTR",
         "Correctness LM": 0,
         "Correctness LM extended": 1,
         "Date": "2014-05-08",
         "N Negative Words": 58,
         "N Positive Words": 41,
         "New negative": 15,
         "New positive": 17,
         "Positive Return": 1,
         "Signal LM": -1,
         "Signal LM extended": 1,
         "Type_x": "10q",
         "Type_y": "10qs",
         "Words": 3714,
         "_deepnote_index_column": 0
        },
        {
         "Company": "TWTR",
         "Correctness LM": 0,
         "Correctness LM extended": 1,
         "Date": "2014-08-11",
         "N Negative Words": 54,
         "N Positive Words": 48,
         "New negative": 12,
         "New positive": 19,
         "Positive Return": 1,
         "Signal LM": -1,
         "Signal LM extended": 1,
         "Type_x": "10q",
         "Type_y": "10qs",
         "Words": 3721,
         "_deepnote_index_column": 1
        },
        {
         "Company": "TWTR",
         "Correctness LM": 1,
         "Correctness LM extended": 0,
         "Date": "2014-11-06",
         "N Negative Words": 57,
         "N Positive Words": 50,
         "New negative": 13,
         "New positive": 19,
         "Positive Return": -1,
         "Signal LM": -1,
         "Signal LM extended": 1,
         "Type_x": "10q",
         "Type_y": "10qs",
         "Words": 4017,
         "_deepnote_index_column": 2
        },
        {
         "Company": "TWTR",
         "Correctness LM": 1,
         "Correctness LM extended": 1,
         "Date": "2015-05-11",
         "N Negative Words": 56,
         "N Positive Words": 31,
         "New negative": 13,
         "New positive": 13,
         "Positive Return": -1,
         "Signal LM": -1,
         "Signal LM extended": -1,
         "Type_x": "10q",
         "Type_y": "10qs",
         "Words": 3458,
         "_deepnote_index_column": 3
        },
        {
         "Company": "TWTR",
         "Correctness LM": 1,
         "Correctness LM extended": 0,
         "Date": "2015-08-07",
         "N Negative Words": 56,
         "N Positive Words": 36,
         "New negative": 14,
         "New positive": 15,
         "Positive Return": -1,
         "Signal LM": -1,
         "Signal LM extended": 1,
         "Type_x": "10q",
         "Type_y": "10qs",
         "Words": 3773,
         "_deepnote_index_column": 4
        },
        {
         "Company": "TWTR",
         "Correctness LM": 1,
         "Correctness LM extended": 1,
         "Date": "2015-11-06",
         "N Negative Words": 53,
         "N Positive Words": 37,
         "New negative": 16,
         "New positive": 14,
         "Positive Return": -1,
         "Signal LM": -1,
         "Signal LM extended": -1,
         "Type_x": "10q",
         "Type_y": "10qs",
         "Words": 3911,
         "_deepnote_index_column": 5
        },
        {
         "Company": "TWTR",
         "Correctness LM": 0,
         "Correctness LM extended": 1,
         "Date": "2016-05-03",
         "N Negative Words": 58,
         "N Positive Words": 35,
         "New negative": 13,
         "New positive": 15,
         "Positive Return": 1,
         "Signal LM": -1,
         "Signal LM extended": 1,
         "Type_x": "10q",
         "Type_y": "10qs",
         "Words": 3683,
         "_deepnote_index_column": 6
        },
        {
         "Company": "TWTR",
         "Correctness LM": 0,
         "Correctness LM extended": 1,
         "Date": "2016-08-01",
         "N Negative Words": 56,
         "N Positive Words": 45,
         "New negative": 14,
         "New positive": 16,
         "Positive Return": 1,
         "Signal LM": -1,
         "Signal LM extended": 1,
         "Type_x": "10q",
         "Type_y": "10qs",
         "Words": 4117,
         "_deepnote_index_column": 7
        },
        {
         "Company": "TWTR",
         "Correctness LM": 1,
         "Correctness LM extended": 1,
         "Date": "2016-11-01",
         "N Negative Words": 57,
         "N Positive Words": 39,
         "New negative": 14,
         "New positive": 12,
         "Positive Return": -1,
         "Signal LM": -1,
         "Signal LM extended": -1,
         "Type_x": "10q",
         "Type_y": "10qs",
         "Words": 4190,
         "_deepnote_index_column": 8
        },
        {
         "Company": "TWTR",
         "Correctness LM": 0,
         "Correctness LM extended": 0,
         "Date": "2017-05-02",
         "N Negative Words": 63,
         "N Positive Words": 40,
         "New negative": 15,
         "New positive": 13,
         "Positive Return": 1,
         "Signal LM": -1,
         "Signal LM extended": -1,
         "Type_x": "10q",
         "Type_y": "10qs",
         "Words": 3580,
         "_deepnote_index_column": 9
        },
        {
         "Company": "TWTR",
         "Correctness LM": 0,
         "Correctness LM extended": 0,
         "Date": "2017-08-03",
         "N Negative Words": 71,
         "N Positive Words": 41,
         "New negative": 16,
         "New positive": 14,
         "Positive Return": 1,
         "Signal LM": -1,
         "Signal LM extended": -1,
         "Type_x": "10q",
         "Type_y": "10qs",
         "Words": 4129,
         "_deepnote_index_column": 10
        },
        {
         "Company": "TWTR",
         "Correctness LM": 0,
         "Correctness LM extended": 0,
         "Date": "2017-11-01",
         "N Negative Words": 73,
         "N Positive Words": 41,
         "New negative": 16,
         "New positive": 16,
         "Positive Return": 1,
         "Signal LM": -1,
         "Signal LM extended": -1,
         "Type_x": "10q",
         "Type_y": "10qs",
         "Words": 4424,
         "_deepnote_index_column": 11
        },
        {
         "Company": "TWTR",
         "Correctness LM": 0,
         "Correctness LM extended": 0,
         "Date": "2018-05-03",
         "N Negative Words": 72,
         "N Positive Words": 47,
         "New negative": 16,
         "New positive": 15,
         "Positive Return": 1,
         "Signal LM": -1,
         "Signal LM extended": -1,
         "Type_x": "10q",
         "Type_y": "10qs",
         "Words": 4062,
         "_deepnote_index_column": 12
        },
        {
         "Company": "TWTR",
         "Correctness LM": 1,
         "Correctness LM extended": 0,
         "Date": "2018-07-30",
         "N Negative Words": 87,
         "N Positive Words": 57,
         "New negative": 25,
         "New positive": 35,
         "Positive Return": -1,
         "Signal LM": -1,
         "Signal LM extended": 1,
         "Type_x": "10q",
         "Type_y": "10qs",
         "Words": 4924,
         "_deepnote_index_column": 13
        },
        {
         "Company": "TWTR",
         "Correctness LM": 1,
         "Correctness LM extended": 0,
         "Date": "2018-10-30",
         "N Negative Words": 109,
         "N Positive Words": 57,
         "New negative": 31,
         "New positive": 35,
         "Positive Return": -1,
         "Signal LM": -1,
         "Signal LM extended": 1,
         "Type_x": "10q",
         "Type_y": "10qs",
         "Words": 5175,
         "_deepnote_index_column": 14
        },
        {
         "Company": "TWTR",
         "Correctness LM": 0,
         "Correctness LM extended": 0,
         "Date": "2019-04-30",
         "N Negative Words": 40,
         "N Positive Words": 49,
         "New negative": 14,
         "New positive": 17,
         "Positive Return": -1,
         "Signal LM": 1,
         "Signal LM extended": 1,
         "Type_x": "10q",
         "Type_y": "10qs",
         "Words": 3543,
         "_deepnote_index_column": 15
        }
       ]
      },
      "text/html": [
       "<div>\n",
       "<style scoped>\n",
       "    .dataframe tbody tr th:only-of-type {\n",
       "        vertical-align: middle;\n",
       "    }\n",
       "\n",
       "    .dataframe tbody tr th {\n",
       "        vertical-align: top;\n",
       "    }\n",
       "\n",
       "    .dataframe thead th {\n",
       "        text-align: right;\n",
       "    }\n",
       "</style>\n",
       "<table border=\"1\" class=\"dataframe\">\n",
       "  <thead>\n",
       "    <tr style=\"text-align: right;\">\n",
       "      <th></th>\n",
       "      <th>Type_x</th>\n",
       "      <th>Date</th>\n",
       "      <th>N Positive Words</th>\n",
       "      <th>N Negative Words</th>\n",
       "      <th>Words</th>\n",
       "      <th>New positive</th>\n",
       "      <th>New negative</th>\n",
       "      <th>Company</th>\n",
       "      <th>Type_y</th>\n",
       "      <th>Positive Return</th>\n",
       "      <th>Signal LM</th>\n",
       "      <th>Signal LM extended</th>\n",
       "      <th>Correctness LM</th>\n",
       "      <th>Correctness LM extended</th>\n",
       "    </tr>\n",
       "  </thead>\n",
       "  <tbody>\n",
       "    <tr>\n",
       "      <th>0</th>\n",
       "      <td>10q</td>\n",
       "      <td>2014-05-08</td>\n",
       "      <td>41</td>\n",
       "      <td>58</td>\n",
       "      <td>3714</td>\n",
       "      <td>17</td>\n",
       "      <td>15</td>\n",
       "      <td>TWTR</td>\n",
       "      <td>10qs</td>\n",
       "      <td>1</td>\n",
       "      <td>-1</td>\n",
       "      <td>1</td>\n",
       "      <td>0</td>\n",
       "      <td>1</td>\n",
       "    </tr>\n",
       "    <tr>\n",
       "      <th>1</th>\n",
       "      <td>10q</td>\n",
       "      <td>2014-08-11</td>\n",
       "      <td>48</td>\n",
       "      <td>54</td>\n",
       "      <td>3721</td>\n",
       "      <td>19</td>\n",
       "      <td>12</td>\n",
       "      <td>TWTR</td>\n",
       "      <td>10qs</td>\n",
       "      <td>1</td>\n",
       "      <td>-1</td>\n",
       "      <td>1</td>\n",
       "      <td>0</td>\n",
       "      <td>1</td>\n",
       "    </tr>\n",
       "    <tr>\n",
       "      <th>2</th>\n",
       "      <td>10q</td>\n",
       "      <td>2014-11-06</td>\n",
       "      <td>50</td>\n",
       "      <td>57</td>\n",
       "      <td>4017</td>\n",
       "      <td>19</td>\n",
       "      <td>13</td>\n",
       "      <td>TWTR</td>\n",
       "      <td>10qs</td>\n",
       "      <td>-1</td>\n",
       "      <td>-1</td>\n",
       "      <td>1</td>\n",
       "      <td>1</td>\n",
       "      <td>0</td>\n",
       "    </tr>\n",
       "    <tr>\n",
       "      <th>3</th>\n",
       "      <td>10q</td>\n",
       "      <td>2015-05-11</td>\n",
       "      <td>31</td>\n",
       "      <td>56</td>\n",
       "      <td>3458</td>\n",
       "      <td>13</td>\n",
       "      <td>13</td>\n",
       "      <td>TWTR</td>\n",
       "      <td>10qs</td>\n",
       "      <td>-1</td>\n",
       "      <td>-1</td>\n",
       "      <td>-1</td>\n",
       "      <td>1</td>\n",
       "      <td>1</td>\n",
       "    </tr>\n",
       "    <tr>\n",
       "      <th>4</th>\n",
       "      <td>10q</td>\n",
       "      <td>2015-08-07</td>\n",
       "      <td>36</td>\n",
       "      <td>56</td>\n",
       "      <td>3773</td>\n",
       "      <td>15</td>\n",
       "      <td>14</td>\n",
       "      <td>TWTR</td>\n",
       "      <td>10qs</td>\n",
       "      <td>-1</td>\n",
       "      <td>-1</td>\n",
       "      <td>1</td>\n",
       "      <td>1</td>\n",
       "      <td>0</td>\n",
       "    </tr>\n",
       "    <tr>\n",
       "      <th>5</th>\n",
       "      <td>10q</td>\n",
       "      <td>2015-11-06</td>\n",
       "      <td>37</td>\n",
       "      <td>53</td>\n",
       "      <td>3911</td>\n",
       "      <td>14</td>\n",
       "      <td>16</td>\n",
       "      <td>TWTR</td>\n",
       "      <td>10qs</td>\n",
       "      <td>-1</td>\n",
       "      <td>-1</td>\n",
       "      <td>-1</td>\n",
       "      <td>1</td>\n",
       "      <td>1</td>\n",
       "    </tr>\n",
       "    <tr>\n",
       "      <th>6</th>\n",
       "      <td>10q</td>\n",
       "      <td>2016-05-03</td>\n",
       "      <td>35</td>\n",
       "      <td>58</td>\n",
       "      <td>3683</td>\n",
       "      <td>15</td>\n",
       "      <td>13</td>\n",
       "      <td>TWTR</td>\n",
       "      <td>10qs</td>\n",
       "      <td>1</td>\n",
       "      <td>-1</td>\n",
       "      <td>1</td>\n",
       "      <td>0</td>\n",
       "      <td>1</td>\n",
       "    </tr>\n",
       "    <tr>\n",
       "      <th>7</th>\n",
       "      <td>10q</td>\n",
       "      <td>2016-08-01</td>\n",
       "      <td>45</td>\n",
       "      <td>56</td>\n",
       "      <td>4117</td>\n",
       "      <td>16</td>\n",
       "      <td>14</td>\n",
       "      <td>TWTR</td>\n",
       "      <td>10qs</td>\n",
       "      <td>1</td>\n",
       "      <td>-1</td>\n",
       "      <td>1</td>\n",
       "      <td>0</td>\n",
       "      <td>1</td>\n",
       "    </tr>\n",
       "    <tr>\n",
       "      <th>8</th>\n",
       "      <td>10q</td>\n",
       "      <td>2016-11-01</td>\n",
       "      <td>39</td>\n",
       "      <td>57</td>\n",
       "      <td>4190</td>\n",
       "      <td>12</td>\n",
       "      <td>14</td>\n",
       "      <td>TWTR</td>\n",
       "      <td>10qs</td>\n",
       "      <td>-1</td>\n",
       "      <td>-1</td>\n",
       "      <td>-1</td>\n",
       "      <td>1</td>\n",
       "      <td>1</td>\n",
       "    </tr>\n",
       "    <tr>\n",
       "      <th>9</th>\n",
       "      <td>10q</td>\n",
       "      <td>2017-05-02</td>\n",
       "      <td>40</td>\n",
       "      <td>63</td>\n",
       "      <td>3580</td>\n",
       "      <td>13</td>\n",
       "      <td>15</td>\n",
       "      <td>TWTR</td>\n",
       "      <td>10qs</td>\n",
       "      <td>1</td>\n",
       "      <td>-1</td>\n",
       "      <td>-1</td>\n",
       "      <td>0</td>\n",
       "      <td>0</td>\n",
       "    </tr>\n",
       "    <tr>\n",
       "      <th>10</th>\n",
       "      <td>10q</td>\n",
       "      <td>2017-08-03</td>\n",
       "      <td>41</td>\n",
       "      <td>71</td>\n",
       "      <td>4129</td>\n",
       "      <td>14</td>\n",
       "      <td>16</td>\n",
       "      <td>TWTR</td>\n",
       "      <td>10qs</td>\n",
       "      <td>1</td>\n",
       "      <td>-1</td>\n",
       "      <td>-1</td>\n",
       "      <td>0</td>\n",
       "      <td>0</td>\n",
       "    </tr>\n",
       "    <tr>\n",
       "      <th>11</th>\n",
       "      <td>10q</td>\n",
       "      <td>2017-11-01</td>\n",
       "      <td>41</td>\n",
       "      <td>73</td>\n",
       "      <td>4424</td>\n",
       "      <td>16</td>\n",
       "      <td>16</td>\n",
       "      <td>TWTR</td>\n",
       "      <td>10qs</td>\n",
       "      <td>1</td>\n",
       "      <td>-1</td>\n",
       "      <td>-1</td>\n",
       "      <td>0</td>\n",
       "      <td>0</td>\n",
       "    </tr>\n",
       "    <tr>\n",
       "      <th>12</th>\n",
       "      <td>10q</td>\n",
       "      <td>2018-05-03</td>\n",
       "      <td>47</td>\n",
       "      <td>72</td>\n",
       "      <td>4062</td>\n",
       "      <td>15</td>\n",
       "      <td>16</td>\n",
       "      <td>TWTR</td>\n",
       "      <td>10qs</td>\n",
       "      <td>1</td>\n",
       "      <td>-1</td>\n",
       "      <td>-1</td>\n",
       "      <td>0</td>\n",
       "      <td>0</td>\n",
       "    </tr>\n",
       "    <tr>\n",
       "      <th>13</th>\n",
       "      <td>10q</td>\n",
       "      <td>2018-07-30</td>\n",
       "      <td>57</td>\n",
       "      <td>87</td>\n",
       "      <td>4924</td>\n",
       "      <td>35</td>\n",
       "      <td>25</td>\n",
       "      <td>TWTR</td>\n",
       "      <td>10qs</td>\n",
       "      <td>-1</td>\n",
       "      <td>-1</td>\n",
       "      <td>1</td>\n",
       "      <td>1</td>\n",
       "      <td>0</td>\n",
       "    </tr>\n",
       "    <tr>\n",
       "      <th>14</th>\n",
       "      <td>10q</td>\n",
       "      <td>2018-10-30</td>\n",
       "      <td>57</td>\n",
       "      <td>109</td>\n",
       "      <td>5175</td>\n",
       "      <td>35</td>\n",
       "      <td>31</td>\n",
       "      <td>TWTR</td>\n",
       "      <td>10qs</td>\n",
       "      <td>-1</td>\n",
       "      <td>-1</td>\n",
       "      <td>1</td>\n",
       "      <td>1</td>\n",
       "      <td>0</td>\n",
       "    </tr>\n",
       "    <tr>\n",
       "      <th>15</th>\n",
       "      <td>10q</td>\n",
       "      <td>2019-04-30</td>\n",
       "      <td>49</td>\n",
       "      <td>40</td>\n",
       "      <td>3543</td>\n",
       "      <td>17</td>\n",
       "      <td>14</td>\n",
       "      <td>TWTR</td>\n",
       "      <td>10qs</td>\n",
       "      <td>-1</td>\n",
       "      <td>1</td>\n",
       "      <td>1</td>\n",
       "      <td>0</td>\n",
       "      <td>0</td>\n",
       "    </tr>\n",
       "  </tbody>\n",
       "</table>\n",
       "</div>"
      ],
      "text/plain": [
       "   Type_x        Date N Positive Words N Negative Words Words  New positive  \\\n",
       "0     10q  2014-05-08               41               58  3714            17   \n",
       "1     10q  2014-08-11               48               54  3721            19   \n",
       "2     10q  2014-11-06               50               57  4017            19   \n",
       "3     10q  2015-05-11               31               56  3458            13   \n",
       "4     10q  2015-08-07               36               56  3773            15   \n",
       "5     10q  2015-11-06               37               53  3911            14   \n",
       "6     10q  2016-05-03               35               58  3683            15   \n",
       "7     10q  2016-08-01               45               56  4117            16   \n",
       "8     10q  2016-11-01               39               57  4190            12   \n",
       "9     10q  2017-05-02               40               63  3580            13   \n",
       "10    10q  2017-08-03               41               71  4129            14   \n",
       "11    10q  2017-11-01               41               73  4424            16   \n",
       "12    10q  2018-05-03               47               72  4062            15   \n",
       "13    10q  2018-07-30               57               87  4924            35   \n",
       "14    10q  2018-10-30               57              109  5175            35   \n",
       "15    10q  2019-04-30               49               40  3543            17   \n",
       "\n",
       "    New negative Company Type_y  Positive Return  Signal LM  \\\n",
       "0             15    TWTR   10qs                1         -1   \n",
       "1             12    TWTR   10qs                1         -1   \n",
       "2             13    TWTR   10qs               -1         -1   \n",
       "3             13    TWTR   10qs               -1         -1   \n",
       "4             14    TWTR   10qs               -1         -1   \n",
       "5             16    TWTR   10qs               -1         -1   \n",
       "6             13    TWTR   10qs                1         -1   \n",
       "7             14    TWTR   10qs                1         -1   \n",
       "8             14    TWTR   10qs               -1         -1   \n",
       "9             15    TWTR   10qs                1         -1   \n",
       "10            16    TWTR   10qs                1         -1   \n",
       "11            16    TWTR   10qs                1         -1   \n",
       "12            16    TWTR   10qs                1         -1   \n",
       "13            25    TWTR   10qs               -1         -1   \n",
       "14            31    TWTR   10qs               -1         -1   \n",
       "15            14    TWTR   10qs               -1          1   \n",
       "\n",
       "    Signal LM extended  Correctness LM  Correctness LM extended  \n",
       "0                    1               0                        1  \n",
       "1                    1               0                        1  \n",
       "2                    1               1                        0  \n",
       "3                   -1               1                        1  \n",
       "4                    1               1                        0  \n",
       "5                   -1               1                        1  \n",
       "6                    1               0                        1  \n",
       "7                    1               0                        1  \n",
       "8                   -1               1                        1  \n",
       "9                   -1               0                        0  \n",
       "10                  -1               0                        0  \n",
       "11                  -1               0                        0  \n",
       "12                  -1               0                        0  \n",
       "13                   1               1                        0  \n",
       "14                   1               1                        0  \n",
       "15                   1               0                        0  "
      ]
     },
     "execution_count": 551,
     "metadata": {},
     "output_type": "execute_result"
    }
   ],
   "source": [
    "result2"
   ]
  },
  {
   "cell_type": "code",
   "execution_count": null,
   "metadata": {
    "cell_id": "00061-69927e3d-17e6-4334-bb50-9a2dc3384190",
    "deepnote_cell_type": "code",
    "execution_millis": 1,
    "execution_start": 1604611115261,
    "output_cleared": false,
    "source_hash": "c3a27a20",
    "tags": []
   },
   "outputs": [
    {
     "data": {
      "text/plain": [
       "0.4375"
      ]
     },
     "execution_count": 552,
     "metadata": {},
     "output_type": "execute_result"
    }
   ],
   "source": [
    "scoreLM_10q"
   ]
  },
  {
   "cell_type": "code",
   "execution_count": null,
   "metadata": {
    "cell_id": "00062-d0c615b4-6518-4a0b-85c5-47d15913b958",
    "deepnote_cell_type": "code",
    "execution_millis": 1,
    "execution_start": 1604611116762,
    "output_cleared": false,
    "source_hash": "cb56fa66",
    "tags": []
   },
   "outputs": [
    {
     "data": {
      "text/plain": [
       "0.5"
      ]
     },
     "execution_count": 553,
     "metadata": {},
     "output_type": "execute_result"
    }
   ],
   "source": [
    "scoreLM_10k"
   ]
  },
  {
   "cell_type": "code",
   "execution_count": null,
   "metadata": {
    "cell_id": "00067-4c7fe4dc-5448-474b-86a2-5accf7dea655",
    "deepnote_cell_type": "code",
    "execution_millis": 1,
    "execution_start": 1604611117708,
    "output_cleared": false,
    "source_hash": "537e0011",
    "tags": []
   },
   "outputs": [
    {
     "data": {
      "text/plain": [
       "0.4375"
      ]
     },
     "execution_count": 554,
     "metadata": {},
     "output_type": "execute_result"
    }
   ],
   "source": [
    "scoreLM_extended_10q"
   ]
  },
  {
   "cell_type": "code",
   "execution_count": null,
   "metadata": {
    "cell_id": "00068-a562ea56-99b6-4e11-a7b9-1af90f160205",
    "deepnote_cell_type": "code",
    "execution_millis": 12,
    "execution_start": 1604611119004,
    "output_cleared": false,
    "source_hash": "fb28a39d",
    "tags": []
   },
   "outputs": [
    {
     "data": {
      "text/plain": [
       "0.5"
      ]
     },
     "execution_count": 555,
     "metadata": {},
     "output_type": "execute_result"
    }
   ],
   "source": [
    "scoreLM_extended_10k"
   ]
  },
  {
   "cell_type": "code",
   "execution_count": null,
   "metadata": {
    "cell_id": "00051-5b390880-fb4e-4567-8230-0a2fd7fc4618",
    "deepnote_cell_type": "code",
    "execution_millis": 15,
    "execution_start": 1604606095500,
    "output_cleared": false,
    "source_hash": "bc5d4df5",
    "tags": []
   },
   "outputs": [
    {
     "ename": "KeyError",
     "evalue": "\"['Type_y' 'Company'] not found in axis\"",
     "output_type": "error",
     "traceback": [
      "\u001b[0;31m---------------------------------------------------------------------------\u001b[0m",
      "\u001b[0;31mKeyError\u001b[0m                                  Traceback (most recent call last)",
      "\u001b[0;32m<ipython-input-478-f7636109258a>\u001b[0m in \u001b[0;36m<module>\u001b[0;34m\u001b[0m\n\u001b[0;32m----> 1\u001b[0;31m \u001b[0mresult\u001b[0m\u001b[0;34m=\u001b[0m\u001b[0mresult\u001b[0m\u001b[0;34m.\u001b[0m\u001b[0mdrop\u001b[0m\u001b[0;34m(\u001b[0m\u001b[0mcolumns\u001b[0m\u001b[0;34m=\u001b[0m\u001b[0;34m[\u001b[0m\u001b[0;34m'Type_y'\u001b[0m\u001b[0;34m,\u001b[0m \u001b[0;34m'Company'\u001b[0m\u001b[0;34m,\u001b[0m\u001b[0;34m]\u001b[0m\u001b[0;34m)\u001b[0m\u001b[0;34m\u001b[0m\u001b[0;34m\u001b[0m\u001b[0m\n\u001b[0m\u001b[1;32m      2\u001b[0m \u001b[0mresult2\u001b[0m\u001b[0;34m=\u001b[0m\u001b[0mresult2\u001b[0m\u001b[0;34m.\u001b[0m\u001b[0mdrop\u001b[0m\u001b[0;34m(\u001b[0m\u001b[0mcolumns\u001b[0m\u001b[0;34m=\u001b[0m\u001b[0;34m[\u001b[0m\u001b[0;34m'Type_y'\u001b[0m\u001b[0;34m,\u001b[0m \u001b[0;34m'Company'\u001b[0m\u001b[0;34m,\u001b[0m\u001b[0;34m]\u001b[0m\u001b[0;34m)\u001b[0m\u001b[0;34m\u001b[0m\u001b[0;34m\u001b[0m\u001b[0m\n",
      "\u001b[0;32m/opt/venv/lib/python3.7/site-packages/pandas/core/frame.py\u001b[0m in \u001b[0;36mdrop\u001b[0;34m(self, labels, axis, index, columns, level, inplace, errors)\u001b[0m\n\u001b[1;32m   3995\u001b[0m             \u001b[0mlevel\u001b[0m\u001b[0;34m=\u001b[0m\u001b[0mlevel\u001b[0m\u001b[0;34m,\u001b[0m\u001b[0;34m\u001b[0m\u001b[0;34m\u001b[0m\u001b[0m\n\u001b[1;32m   3996\u001b[0m             \u001b[0minplace\u001b[0m\u001b[0;34m=\u001b[0m\u001b[0minplace\u001b[0m\u001b[0;34m,\u001b[0m\u001b[0;34m\u001b[0m\u001b[0;34m\u001b[0m\u001b[0m\n\u001b[0;32m-> 3997\u001b[0;31m             \u001b[0merrors\u001b[0m\u001b[0;34m=\u001b[0m\u001b[0merrors\u001b[0m\u001b[0;34m,\u001b[0m\u001b[0;34m\u001b[0m\u001b[0;34m\u001b[0m\u001b[0m\n\u001b[0m\u001b[1;32m   3998\u001b[0m         )\n\u001b[1;32m   3999\u001b[0m \u001b[0;34m\u001b[0m\u001b[0m\n",
      "\u001b[0;32m/opt/venv/lib/python3.7/site-packages/pandas/core/generic.py\u001b[0m in \u001b[0;36mdrop\u001b[0;34m(self, labels, axis, index, columns, level, inplace, errors)\u001b[0m\n\u001b[1;32m   3934\u001b[0m         \u001b[0;32mfor\u001b[0m \u001b[0maxis\u001b[0m\u001b[0;34m,\u001b[0m \u001b[0mlabels\u001b[0m \u001b[0;32min\u001b[0m \u001b[0maxes\u001b[0m\u001b[0;34m.\u001b[0m\u001b[0mitems\u001b[0m\u001b[0;34m(\u001b[0m\u001b[0;34m)\u001b[0m\u001b[0;34m:\u001b[0m\u001b[0;34m\u001b[0m\u001b[0;34m\u001b[0m\u001b[0m\n\u001b[1;32m   3935\u001b[0m             \u001b[0;32mif\u001b[0m \u001b[0mlabels\u001b[0m \u001b[0;32mis\u001b[0m \u001b[0;32mnot\u001b[0m \u001b[0;32mNone\u001b[0m\u001b[0;34m:\u001b[0m\u001b[0;34m\u001b[0m\u001b[0;34m\u001b[0m\u001b[0m\n\u001b[0;32m-> 3936\u001b[0;31m                 \u001b[0mobj\u001b[0m \u001b[0;34m=\u001b[0m \u001b[0mobj\u001b[0m\u001b[0;34m.\u001b[0m\u001b[0m_drop_axis\u001b[0m\u001b[0;34m(\u001b[0m\u001b[0mlabels\u001b[0m\u001b[0;34m,\u001b[0m \u001b[0maxis\u001b[0m\u001b[0;34m,\u001b[0m \u001b[0mlevel\u001b[0m\u001b[0;34m=\u001b[0m\u001b[0mlevel\u001b[0m\u001b[0;34m,\u001b[0m \u001b[0merrors\u001b[0m\u001b[0;34m=\u001b[0m\u001b[0merrors\u001b[0m\u001b[0;34m)\u001b[0m\u001b[0;34m\u001b[0m\u001b[0;34m\u001b[0m\u001b[0m\n\u001b[0m\u001b[1;32m   3937\u001b[0m \u001b[0;34m\u001b[0m\u001b[0m\n\u001b[1;32m   3938\u001b[0m         \u001b[0;32mif\u001b[0m \u001b[0minplace\u001b[0m\u001b[0;34m:\u001b[0m\u001b[0;34m\u001b[0m\u001b[0;34m\u001b[0m\u001b[0m\n",
      "\u001b[0;32m/opt/venv/lib/python3.7/site-packages/pandas/core/generic.py\u001b[0m in \u001b[0;36m_drop_axis\u001b[0;34m(self, labels, axis, level, errors)\u001b[0m\n\u001b[1;32m   3968\u001b[0m                 \u001b[0mnew_axis\u001b[0m \u001b[0;34m=\u001b[0m \u001b[0maxis\u001b[0m\u001b[0;34m.\u001b[0m\u001b[0mdrop\u001b[0m\u001b[0;34m(\u001b[0m\u001b[0mlabels\u001b[0m\u001b[0;34m,\u001b[0m \u001b[0mlevel\u001b[0m\u001b[0;34m=\u001b[0m\u001b[0mlevel\u001b[0m\u001b[0;34m,\u001b[0m \u001b[0merrors\u001b[0m\u001b[0;34m=\u001b[0m\u001b[0merrors\u001b[0m\u001b[0;34m)\u001b[0m\u001b[0;34m\u001b[0m\u001b[0;34m\u001b[0m\u001b[0m\n\u001b[1;32m   3969\u001b[0m             \u001b[0;32melse\u001b[0m\u001b[0;34m:\u001b[0m\u001b[0;34m\u001b[0m\u001b[0;34m\u001b[0m\u001b[0m\n\u001b[0;32m-> 3970\u001b[0;31m                 \u001b[0mnew_axis\u001b[0m \u001b[0;34m=\u001b[0m \u001b[0maxis\u001b[0m\u001b[0;34m.\u001b[0m\u001b[0mdrop\u001b[0m\u001b[0;34m(\u001b[0m\u001b[0mlabels\u001b[0m\u001b[0;34m,\u001b[0m \u001b[0merrors\u001b[0m\u001b[0;34m=\u001b[0m\u001b[0merrors\u001b[0m\u001b[0;34m)\u001b[0m\u001b[0;34m\u001b[0m\u001b[0;34m\u001b[0m\u001b[0m\n\u001b[0m\u001b[1;32m   3971\u001b[0m             \u001b[0mresult\u001b[0m \u001b[0;34m=\u001b[0m \u001b[0mself\u001b[0m\u001b[0;34m.\u001b[0m\u001b[0mreindex\u001b[0m\u001b[0;34m(\u001b[0m\u001b[0;34m**\u001b[0m\u001b[0;34m{\u001b[0m\u001b[0maxis_name\u001b[0m\u001b[0;34m:\u001b[0m \u001b[0mnew_axis\u001b[0m\u001b[0;34m}\u001b[0m\u001b[0;34m)\u001b[0m\u001b[0;34m\u001b[0m\u001b[0;34m\u001b[0m\u001b[0m\n\u001b[1;32m   3972\u001b[0m \u001b[0;34m\u001b[0m\u001b[0m\n",
      "\u001b[0;32m/opt/venv/lib/python3.7/site-packages/pandas/core/indexes/base.py\u001b[0m in \u001b[0;36mdrop\u001b[0;34m(self, labels, errors)\u001b[0m\n\u001b[1;32m   5016\u001b[0m         \u001b[0;32mif\u001b[0m \u001b[0mmask\u001b[0m\u001b[0;34m.\u001b[0m\u001b[0many\u001b[0m\u001b[0;34m(\u001b[0m\u001b[0;34m)\u001b[0m\u001b[0;34m:\u001b[0m\u001b[0;34m\u001b[0m\u001b[0;34m\u001b[0m\u001b[0m\n\u001b[1;32m   5017\u001b[0m             \u001b[0;32mif\u001b[0m \u001b[0merrors\u001b[0m \u001b[0;34m!=\u001b[0m \u001b[0;34m\"ignore\"\u001b[0m\u001b[0;34m:\u001b[0m\u001b[0;34m\u001b[0m\u001b[0;34m\u001b[0m\u001b[0m\n\u001b[0;32m-> 5018\u001b[0;31m                 \u001b[0;32mraise\u001b[0m \u001b[0mKeyError\u001b[0m\u001b[0;34m(\u001b[0m\u001b[0;34mf\"{labels[mask]} not found in axis\"\u001b[0m\u001b[0;34m)\u001b[0m\u001b[0;34m\u001b[0m\u001b[0;34m\u001b[0m\u001b[0m\n\u001b[0m\u001b[1;32m   5019\u001b[0m             \u001b[0mindexer\u001b[0m \u001b[0;34m=\u001b[0m \u001b[0mindexer\u001b[0m\u001b[0;34m[\u001b[0m\u001b[0;34m~\u001b[0m\u001b[0mmask\u001b[0m\u001b[0;34m]\u001b[0m\u001b[0;34m\u001b[0m\u001b[0;34m\u001b[0m\u001b[0m\n\u001b[1;32m   5020\u001b[0m         \u001b[0;32mreturn\u001b[0m \u001b[0mself\u001b[0m\u001b[0;34m.\u001b[0m\u001b[0mdelete\u001b[0m\u001b[0;34m(\u001b[0m\u001b[0mindexer\u001b[0m\u001b[0;34m)\u001b[0m\u001b[0;34m\u001b[0m\u001b[0;34m\u001b[0m\u001b[0m\n",
      "\u001b[0;31mKeyError\u001b[0m: \"['Type_y' 'Company'] not found in axis\""
     ]
    }
   ],
   "source": [
    "result=result.drop(columns=['Type_y', 'Company',])\n",
    "result2=result2.drop(columns=['Type_y', 'Company',])"
   ]
  },
  {
   "cell_type": "code",
   "execution_count": null,
   "metadata": {
    "cell_id": "00076-37c70e83-66c6-493e-8499-670ca84c56cd",
    "deepnote_cell_type": "code",
    "execution_millis": 4,
    "execution_start": 1604606102682,
    "output_cleared": false,
    "source_hash": "bae0e1b5",
    "tags": []
   },
   "outputs": [
    {
     "data": {
      "application/vnd.deepnote.dataframe.v2+json": {
       "column_count": 12,
       "columns": [
        {
         "dtype": "object",
         "name": "Type_x",
         "stats": {
          "categories": [
           {
            "count": 6,
            "name": "10k"
           }
          ],
          "nan_count": 0,
          "unique_count": 1
         }
        },
        {
         "dtype": "object",
         "name": "Date",
         "stats": {
          "categories": [
           {
            "count": 1,
            "name": "2014-03-06"
           },
           {
            "count": 1,
            "name": "2015-03-02"
           },
           {
            "count": 4,
            "name": "4 others"
           }
          ],
          "nan_count": 0,
          "unique_count": 6
         }
        },
        {
         "dtype": "object",
         "name": "N Positive Words",
         "stats": {
          "categories": [
           {
            "count": 2,
            "name": "26"
           },
           {
            "count": 1,
            "name": "25"
           },
           {
            "count": 3,
            "name": "3 others"
           }
          ],
          "nan_count": 0,
          "unique_count": 5
         }
        },
        {
         "dtype": "object",
         "name": "N Negative Words",
         "stats": {
          "categories": [
           {
            "count": 2,
            "name": "27"
           },
           {
            "count": 1,
            "name": "25"
           },
           {
            "count": 3,
            "name": "3 others"
           }
          ],
          "nan_count": 0,
          "unique_count": 5
         }
        },
        {
         "dtype": "object",
         "name": "Words",
         "stats": {
          "categories": [
           {
            "count": 1,
            "name": "7063"
           },
           {
            "count": 1,
            "name": "6666"
           },
           {
            "count": 4,
            "name": "4 others"
           }
          ],
          "nan_count": 0,
          "unique_count": 6
         }
        },
        {
         "dtype": "int64",
         "name": "New positive",
         "stats": {
          "histogram": [
           {
            "bin_end": 2170,
            "bin_start": 1820,
            "count": 1
           },
           {
            "bin_end": 2520,
            "bin_start": 2170,
            "count": 1
           },
           {
            "bin_end": 2870,
            "bin_start": 2520,
            "count": 2
           },
           {
            "bin_end": 3220,
            "bin_start": 2870,
            "count": 0
           },
           {
            "bin_end": 3570,
            "bin_start": 3220,
            "count": 0
           },
           {
            "bin_end": 3920,
            "bin_start": 3570,
            "count": 1
           },
           {
            "bin_end": 4270,
            "bin_start": 3920,
            "count": 0
           },
           {
            "bin_end": 4620,
            "bin_start": 4270,
            "count": 0
           },
           {
            "bin_end": 4970,
            "bin_start": 4620,
            "count": 0
           },
           {
            "bin_end": 5320,
            "bin_start": 4970,
            "count": 1
           }
          ],
          "max": 5320,
          "min": 1820,
          "nan_count": 0,
          "unique_count": 6
         }
        },
        {
         "dtype": "int64",
         "name": "New negative",
         "stats": {
          "histogram": [
           {
            "bin_end": 2986,
            "bin_start": 2560,
            "count": 2
           },
           {
            "bin_end": 3412,
            "bin_start": 2986,
            "count": 1
           },
           {
            "bin_end": 3838,
            "bin_start": 3412,
            "count": 0
           },
           {
            "bin_end": 4264,
            "bin_start": 3838,
            "count": 1
           },
           {
            "bin_end": 4690,
            "bin_start": 4264,
            "count": 0
           },
           {
            "bin_end": 5116,
            "bin_start": 4690,
            "count": 1
           },
           {
            "bin_end": 5542,
            "bin_start": 5116,
            "count": 0
           },
           {
            "bin_end": 5968,
            "bin_start": 5542,
            "count": 0
           },
           {
            "bin_end": 6394,
            "bin_start": 5968,
            "count": 0
           },
           {
            "bin_end": 6820,
            "bin_start": 6394,
            "count": 1
           }
          ],
          "max": 6820,
          "min": 2560,
          "nan_count": 0,
          "unique_count": 6
         }
        },
        {
         "dtype": "int64",
         "name": "Positive Return",
         "stats": {
          "histogram": [
           {
            "bin_end": -0.8,
            "bin_start": -1,
            "count": 4
           },
           {
            "bin_end": -0.6,
            "bin_start": -0.8,
            "count": 0
           },
           {
            "bin_end": -0.3999999999999999,
            "bin_start": -0.6,
            "count": 0
           },
           {
            "bin_end": -0.19999999999999996,
            "bin_start": -0.3999999999999999,
            "count": 0
           },
           {
            "bin_end": 0,
            "bin_start": -0.19999999999999996,
            "count": 0
           },
           {
            "bin_end": 0.20000000000000018,
            "bin_start": 0,
            "count": 0
           },
           {
            "bin_end": 0.40000000000000013,
            "bin_start": 0.20000000000000018,
            "count": 0
           },
           {
            "bin_end": 0.6000000000000001,
            "bin_start": 0.40000000000000013,
            "count": 0
           },
           {
            "bin_end": 0.8,
            "bin_start": 0.6000000000000001,
            "count": 0
           },
           {
            "bin_end": 1,
            "bin_start": 0.8,
            "count": 2
           }
          ],
          "max": 1,
          "min": -1,
          "nan_count": 0,
          "unique_count": 2
         }
        },
        {
         "dtype": "int64",
         "name": "Signal LM",
         "stats": {
          "histogram": [
           {
            "bin_end": -0.8,
            "bin_start": -1,
            "count": 5
           },
           {
            "bin_end": -0.6,
            "bin_start": -0.8,
            "count": 0
           },
           {
            "bin_end": -0.3999999999999999,
            "bin_start": -0.6,
            "count": 0
           },
           {
            "bin_end": -0.19999999999999996,
            "bin_start": -0.3999999999999999,
            "count": 0
           },
           {
            "bin_end": 0,
            "bin_start": -0.19999999999999996,
            "count": 0
           },
           {
            "bin_end": 0.20000000000000018,
            "bin_start": 0,
            "count": 0
           },
           {
            "bin_end": 0.40000000000000013,
            "bin_start": 0.20000000000000018,
            "count": 0
           },
           {
            "bin_end": 0.6000000000000001,
            "bin_start": 0.40000000000000013,
            "count": 0
           },
           {
            "bin_end": 0.8,
            "bin_start": 0.6000000000000001,
            "count": 0
           },
           {
            "bin_end": 1,
            "bin_start": 0.8,
            "count": 1
           }
          ],
          "max": 1,
          "min": -1,
          "nan_count": 0,
          "unique_count": 2
         }
        },
        {
         "dtype": "int64",
         "name": "Signal LM extended",
         "stats": {
          "histogram": [
           {
            "bin_end": -0.8,
            "bin_start": -1,
            "count": 5
           },
           {
            "bin_end": -0.6,
            "bin_start": -0.8,
            "count": 0
           },
           {
            "bin_end": -0.3999999999999999,
            "bin_start": -0.6,
            "count": 0
           },
           {
            "bin_end": -0.19999999999999996,
            "bin_start": -0.3999999999999999,
            "count": 0
           },
           {
            "bin_end": 0,
            "bin_start": -0.19999999999999996,
            "count": 0
           },
           {
            "bin_end": 0.20000000000000018,
            "bin_start": 0,
            "count": 0
           },
           {
            "bin_end": 0.40000000000000013,
            "bin_start": 0.20000000000000018,
            "count": 0
           },
           {
            "bin_end": 0.6000000000000001,
            "bin_start": 0.40000000000000013,
            "count": 0
           },
           {
            "bin_end": 0.8,
            "bin_start": 0.6000000000000001,
            "count": 0
           },
           {
            "bin_end": 1,
            "bin_start": 0.8,
            "count": 1
           }
          ],
          "max": 1,
          "min": -1,
          "nan_count": 0,
          "unique_count": 2
         }
        },
        {
         "dtype": "int64",
         "name": "Correctness LM",
         "stats": {
          "histogram": [
           {
            "bin_end": 0.1,
            "bin_start": 0,
            "count": 3
           },
           {
            "bin_end": 0.2,
            "bin_start": 0.1,
            "count": 0
           },
           {
            "bin_end": 0.30000000000000004,
            "bin_start": 0.2,
            "count": 0
           },
           {
            "bin_end": 0.4,
            "bin_start": 0.30000000000000004,
            "count": 0
           },
           {
            "bin_end": 0.5,
            "bin_start": 0.4,
            "count": 0
           },
           {
            "bin_end": 0.6000000000000001,
            "bin_start": 0.5,
            "count": 0
           },
           {
            "bin_end": 0.7000000000000001,
            "bin_start": 0.6000000000000001,
            "count": 0
           },
           {
            "bin_end": 0.8,
            "bin_start": 0.7000000000000001,
            "count": 0
           },
           {
            "bin_end": 0.9,
            "bin_start": 0.8,
            "count": 0
           },
           {
            "bin_end": 1,
            "bin_start": 0.9,
            "count": 3
           }
          ],
          "max": 1,
          "min": 0,
          "nan_count": 0,
          "unique_count": 2
         }
        },
        {
         "dtype": "int64",
         "name": "Correctness LM extended",
         "stats": {
          "histogram": [
           {
            "bin_end": 0.1,
            "bin_start": 0,
            "count": 3
           },
           {
            "bin_end": 0.2,
            "bin_start": 0.1,
            "count": 0
           },
           {
            "bin_end": 0.30000000000000004,
            "bin_start": 0.2,
            "count": 0
           },
           {
            "bin_end": 0.4,
            "bin_start": 0.30000000000000004,
            "count": 0
           },
           {
            "bin_end": 0.5,
            "bin_start": 0.4,
            "count": 0
           },
           {
            "bin_end": 0.6000000000000001,
            "bin_start": 0.5,
            "count": 0
           },
           {
            "bin_end": 0.7000000000000001,
            "bin_start": 0.6000000000000001,
            "count": 0
           },
           {
            "bin_end": 0.8,
            "bin_start": 0.7000000000000001,
            "count": 0
           },
           {
            "bin_end": 0.9,
            "bin_start": 0.8,
            "count": 0
           },
           {
            "bin_end": 1,
            "bin_start": 0.9,
            "count": 3
           }
          ],
          "max": 1,
          "min": 0,
          "nan_count": 0,
          "unique_count": 2
         }
        },
        {
         "dtype": "int64",
         "name": "_deepnote_index_column"
        }
       ],
       "row_count": 6,
       "rows_bottom": null,
       "rows_top": [
        {
         "Correctness LM": 1,
         "Correctness LM extended": 0,
         "Date": "2014-03-06",
         "N Negative Words": 27,
         "N Positive Words": 26,
         "New negative": 3384,
         "New positive": 5320,
         "Positive Return": -1,
         "Signal LM": -1,
         "Signal LM extended": 1,
         "Type_x": "10k",
         "Words": 7063,
         "_deepnote_index_column": 0
        },
        {
         "Correctness LM": 1,
         "Correctness LM extended": 1,
         "Date": "2015-03-02",
         "N Negative Words": 27,
         "N Positive Words": 25,
         "New negative": 2835,
         "New positive": 2695,
         "Positive Return": -1,
         "Signal LM": -1,
         "Signal LM extended": -1,
         "Type_x": "10k",
         "Words": 6666,
         "_deepnote_index_column": 1
        },
        {
         "Correctness LM": 0,
         "Correctness LM extended": 1,
         "Date": "2016-02-29",
         "N Negative Words": 25,
         "N Positive Words": 26,
         "New negative": 2560,
         "New positive": 1820,
         "Positive Return": -1,
         "Signal LM": 1,
         "Signal LM extended": -1,
         "Type_x": "10k",
         "Words": 6222,
         "_deepnote_index_column": 2
        },
        {
         "Correctness LM": 0,
         "Correctness LM extended": 0,
         "Date": "2017-02-27",
         "N Negative Words": 31,
         "N Positive Words": 31,
         "New negative": 4182,
         "New positive": 2511,
         "Positive Return": 1,
         "Signal LM": -1,
         "Signal LM extended": -1,
         "Type_x": "10k",
         "Words": 6581,
         "_deepnote_index_column": 3
        },
        {
         "Correctness LM": 1,
         "Correctness LM extended": 1,
         "Date": "2018-02-23",
         "N Negative Words": 35,
         "N Positive Words": 32,
         "New negative": 6820,
         "New positive": 2624,
         "Positive Return": -1,
         "Signal LM": -1,
         "Signal LM extended": -1,
         "Type_x": "10k",
         "Words": 6928,
         "_deepnote_index_column": 4
        },
        {
         "Correctness LM": 0,
         "Correctness LM extended": 0,
         "Date": "2019-02-21",
         "N Negative Words": 33,
         "N Positive Words": 29,
         "New negative": 5040,
         "New positive": 3744,
         "Positive Return": 1,
         "Signal LM": -1,
         "Signal LM extended": -1,
         "Type_x": "10k",
         "Words": 6774,
         "_deepnote_index_column": 5
        }
       ]
      },
      "text/html": [
       "<div>\n",
       "<style scoped>\n",
       "    .dataframe tbody tr th:only-of-type {\n",
       "        vertical-align: middle;\n",
       "    }\n",
       "\n",
       "    .dataframe tbody tr th {\n",
       "        vertical-align: top;\n",
       "    }\n",
       "\n",
       "    .dataframe thead th {\n",
       "        text-align: right;\n",
       "    }\n",
       "</style>\n",
       "<table border=\"1\" class=\"dataframe\">\n",
       "  <thead>\n",
       "    <tr style=\"text-align: right;\">\n",
       "      <th></th>\n",
       "      <th>Type_x</th>\n",
       "      <th>Date</th>\n",
       "      <th>N Positive Words</th>\n",
       "      <th>N Negative Words</th>\n",
       "      <th>Words</th>\n",
       "      <th>New positive</th>\n",
       "      <th>New negative</th>\n",
       "      <th>Positive Return</th>\n",
       "      <th>Signal LM</th>\n",
       "      <th>Signal LM extended</th>\n",
       "      <th>Correctness LM</th>\n",
       "      <th>Correctness LM extended</th>\n",
       "    </tr>\n",
       "  </thead>\n",
       "  <tbody>\n",
       "    <tr>\n",
       "      <th>0</th>\n",
       "      <td>10k</td>\n",
       "      <td>2014-03-06</td>\n",
       "      <td>26</td>\n",
       "      <td>27</td>\n",
       "      <td>7063</td>\n",
       "      <td>5320</td>\n",
       "      <td>3384</td>\n",
       "      <td>-1</td>\n",
       "      <td>-1</td>\n",
       "      <td>1</td>\n",
       "      <td>1</td>\n",
       "      <td>0</td>\n",
       "    </tr>\n",
       "    <tr>\n",
       "      <th>1</th>\n",
       "      <td>10k</td>\n",
       "      <td>2015-03-02</td>\n",
       "      <td>25</td>\n",
       "      <td>27</td>\n",
       "      <td>6666</td>\n",
       "      <td>2695</td>\n",
       "      <td>2835</td>\n",
       "      <td>-1</td>\n",
       "      <td>-1</td>\n",
       "      <td>-1</td>\n",
       "      <td>1</td>\n",
       "      <td>1</td>\n",
       "    </tr>\n",
       "    <tr>\n",
       "      <th>2</th>\n",
       "      <td>10k</td>\n",
       "      <td>2016-02-29</td>\n",
       "      <td>26</td>\n",
       "      <td>25</td>\n",
       "      <td>6222</td>\n",
       "      <td>1820</td>\n",
       "      <td>2560</td>\n",
       "      <td>-1</td>\n",
       "      <td>1</td>\n",
       "      <td>-1</td>\n",
       "      <td>0</td>\n",
       "      <td>1</td>\n",
       "    </tr>\n",
       "    <tr>\n",
       "      <th>3</th>\n",
       "      <td>10k</td>\n",
       "      <td>2017-02-27</td>\n",
       "      <td>31</td>\n",
       "      <td>31</td>\n",
       "      <td>6581</td>\n",
       "      <td>2511</td>\n",
       "      <td>4182</td>\n",
       "      <td>1</td>\n",
       "      <td>-1</td>\n",
       "      <td>-1</td>\n",
       "      <td>0</td>\n",
       "      <td>0</td>\n",
       "    </tr>\n",
       "    <tr>\n",
       "      <th>4</th>\n",
       "      <td>10k</td>\n",
       "      <td>2018-02-23</td>\n",
       "      <td>32</td>\n",
       "      <td>35</td>\n",
       "      <td>6928</td>\n",
       "      <td>2624</td>\n",
       "      <td>6820</td>\n",
       "      <td>-1</td>\n",
       "      <td>-1</td>\n",
       "      <td>-1</td>\n",
       "      <td>1</td>\n",
       "      <td>1</td>\n",
       "    </tr>\n",
       "    <tr>\n",
       "      <th>5</th>\n",
       "      <td>10k</td>\n",
       "      <td>2019-02-21</td>\n",
       "      <td>29</td>\n",
       "      <td>33</td>\n",
       "      <td>6774</td>\n",
       "      <td>3744</td>\n",
       "      <td>5040</td>\n",
       "      <td>1</td>\n",
       "      <td>-1</td>\n",
       "      <td>-1</td>\n",
       "      <td>0</td>\n",
       "      <td>0</td>\n",
       "    </tr>\n",
       "  </tbody>\n",
       "</table>\n",
       "</div>"
      ],
      "text/plain": [
       "  Type_x        Date N Positive Words N Negative Words Words  New positive  \\\n",
       "0    10k  2014-03-06               26               27  7063          5320   \n",
       "1    10k  2015-03-02               25               27  6666          2695   \n",
       "2    10k  2016-02-29               26               25  6222          1820   \n",
       "3    10k  2017-02-27               31               31  6581          2511   \n",
       "4    10k  2018-02-23               32               35  6928          2624   \n",
       "5    10k  2019-02-21               29               33  6774          3744   \n",
       "\n",
       "   New negative  Positive Return  Signal LM  Signal LM extended  \\\n",
       "0          3384               -1         -1                   1   \n",
       "1          2835               -1         -1                  -1   \n",
       "2          2560               -1          1                  -1   \n",
       "3          4182                1         -1                  -1   \n",
       "4          6820               -1         -1                  -1   \n",
       "5          5040                1         -1                  -1   \n",
       "\n",
       "   Correctness LM  Correctness LM extended  \n",
       "0               1                        0  \n",
       "1               1                        1  \n",
       "2               0                        1  \n",
       "3               0                        0  \n",
       "4               1                        1  \n",
       "5               0                        0  "
      ]
     },
     "execution_count": 480,
     "metadata": {},
     "output_type": "execute_result"
    }
   ],
   "source": [
    "result"
   ]
  },
  {
   "cell_type": "code",
   "execution_count": null,
   "metadata": {
    "cell_id": "00085-867cd0ae-330f-42a3-9856-3a78e2b08af9",
    "deepnote_cell_type": "code",
    "execution_millis": 2,
    "execution_start": 1604610988325,
    "output_cleared": false,
    "source_hash": "f145ecf",
    "tags": []
   },
   "outputs": [],
   "source": [
    "result2.to_csv(\"Twitter for ppt.csv\")"
   ]
  },
  {
   "cell_type": "code",
   "execution_count": null,
   "metadata": {
    "cell_id": "00060-5e15522f-90e3-486f-99dd-ba3b57241cec",
    "deepnote_cell_type": "code",
    "execution_millis": 7,
    "execution_start": 1604605242706,
    "output_cleared": false,
    "source_hash": "4d3fa28",
    "tags": []
   },
   "outputs": [],
   "source": [
    "result.to_csv(\"LM and LM-extended 10k \"+str(cik)+\".csv\")"
   ]
  },
  {
   "cell_type": "code",
   "execution_count": null,
   "metadata": {
    "cell_id": "00061-3b47648e-04db-47d0-849f-60d8f8c513bd",
    "deepnote_cell_type": "code",
    "execution_millis": 3,
    "execution_start": 1604605242717,
    "output_cleared": false,
    "source_hash": "65489bd7",
    "tags": []
   },
   "outputs": [],
   "source": [
    "result2.to_csv(\"LM and LM-extended 10q \"+str(cik)+\".csv\")"
   ]
  }
 ],
 "metadata": {
  "deepnote_execution_queue": [],
  "deepnote_notebook_id": "9e9d9113-1e23-4c8a-878f-ab71fed6bbdf",
  "kernelspec": {
   "display_name": "Python 3",
   "language": "python",
   "name": "python3"
  },
  "language_info": {
   "codemirror_mode": {
    "name": "ipython",
    "version": 3
   },
   "file_extension": ".py",
   "mimetype": "text/x-python",
   "name": "python",
   "nbconvert_exporter": "python",
   "pygments_lexer": "ipython3",
   "version": "3.8.3"
  }
 },
 "nbformat": 4,
 "nbformat_minor": 2
}
